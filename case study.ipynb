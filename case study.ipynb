{
 "cells": [
  {
   "cell_type": "markdown",
   "metadata": {},
   "source": [
    "## **CASE STUDY**"
   ]
  },
  {
   "cell_type": "markdown",
   "metadata": {},
   "source": [
    "### **STRATEGIC LENDING AND ACQUISITION ANALYSIS**"
   ]
  },
  {
   "cell_type": "code",
   "execution_count": 19,
   "metadata": {},
   "outputs": [],
   "source": [
    "import pandas as pd\n",
    "import numpy as np\n",
    "import matplotlib.pyplot as plt\n",
    "import seaborn as sns"
   ]
  },
  {
   "cell_type": "code",
   "execution_count": 20,
   "metadata": {},
   "outputs": [
    {
     "data": {
      "application/vnd.microsoft.datawrangler.viewer.v0+json": {
       "columns": [
        {
         "name": "index",
         "rawType": "int64",
         "type": "integer"
        },
        {
         "name": "disb_date",
         "rawType": "object",
         "type": "string"
        },
        {
         "name": "tenure",
         "rawType": "object",
         "type": "string"
        },
        {
         "name": "loan_amount",
         "rawType": "int64",
         "type": "integer"
        },
        {
         "name": "loan_fee",
         "rawType": "float64",
         "type": "float"
        },
        {
         "name": "date_time",
         "rawType": "object",
         "type": "string"
        },
        {
         "name": "amount",
         "rawType": "float64",
         "type": "float"
        },
        {
         "name": "rep_month",
         "rawType": "int64",
         "type": "integer"
        },
        {
         "name": "repayment_type",
         "rawType": "object",
         "type": "string"
        }
       ],
       "conversionMethod": "pd.DataFrame",
       "ref": "b5365954-06dd-4526-9e70-d410b6764986",
       "rows": [
        [
         "0",
         "19-Mar-24",
         "14 days",
         "360",
         "43.2",
         "27-JUN-24 07.16.36.000000000 AM",
         "500.65",
         "202406",
         "Automatic"
        ],
        [
         "1",
         "19-Mar-24",
         "14 days",
         "360",
         "43.2",
         "27-JUN-24 05.26.50.000000000 PM",
         "2833.33",
         "202406",
         "Automatic"
        ],
        [
         "2",
         "19-Mar-24",
         "14 days",
         "360",
         "43.2",
         "27-JUN-24 06.45.40.000000000 PM",
         "143.98",
         "202406",
         "Automatic"
        ],
        [
         "3",
         "19-Mar-24",
         "14 days",
         "360",
         "43.2",
         "27-JUN-24 01.24.57.000000000 PM",
         "1000.0",
         "202406",
         "Automatic"
        ],
        [
         "4",
         "19-Mar-24",
         "14 days",
         "360",
         "43.2",
         "27-JUN-24 01.31.44.000000000 PM",
         "801.0",
         "202406",
         "Manual"
        ]
       ],
       "shape": {
        "columns": 8,
        "rows": 5
       }
      },
      "text/html": [
       "<div>\n",
       "<style scoped>\n",
       "    .dataframe tbody tr th:only-of-type {\n",
       "        vertical-align: middle;\n",
       "    }\n",
       "\n",
       "    .dataframe tbody tr th {\n",
       "        vertical-align: top;\n",
       "    }\n",
       "\n",
       "    .dataframe thead th {\n",
       "        text-align: right;\n",
       "    }\n",
       "</style>\n",
       "<table border=\"1\" class=\"dataframe\">\n",
       "  <thead>\n",
       "    <tr style=\"text-align: right;\">\n",
       "      <th></th>\n",
       "      <th>disb_date</th>\n",
       "      <th>tenure</th>\n",
       "      <th>loan_amount</th>\n",
       "      <th>loan_fee</th>\n",
       "      <th>date_time</th>\n",
       "      <th>amount</th>\n",
       "      <th>rep_month</th>\n",
       "      <th>repayment_type</th>\n",
       "    </tr>\n",
       "  </thead>\n",
       "  <tbody>\n",
       "    <tr>\n",
       "      <th>0</th>\n",
       "      <td>19-Mar-24</td>\n",
       "      <td>14 days</td>\n",
       "      <td>360</td>\n",
       "      <td>43.2</td>\n",
       "      <td>27-JUN-24 07.16.36.000000000 AM</td>\n",
       "      <td>500.65</td>\n",
       "      <td>202406</td>\n",
       "      <td>Automatic</td>\n",
       "    </tr>\n",
       "    <tr>\n",
       "      <th>1</th>\n",
       "      <td>19-Mar-24</td>\n",
       "      <td>14 days</td>\n",
       "      <td>360</td>\n",
       "      <td>43.2</td>\n",
       "      <td>27-JUN-24 05.26.50.000000000 PM</td>\n",
       "      <td>2833.33</td>\n",
       "      <td>202406</td>\n",
       "      <td>Automatic</td>\n",
       "    </tr>\n",
       "    <tr>\n",
       "      <th>2</th>\n",
       "      <td>19-Mar-24</td>\n",
       "      <td>14 days</td>\n",
       "      <td>360</td>\n",
       "      <td>43.2</td>\n",
       "      <td>27-JUN-24 06.45.40.000000000 PM</td>\n",
       "      <td>143.98</td>\n",
       "      <td>202406</td>\n",
       "      <td>Automatic</td>\n",
       "    </tr>\n",
       "    <tr>\n",
       "      <th>3</th>\n",
       "      <td>19-Mar-24</td>\n",
       "      <td>14 days</td>\n",
       "      <td>360</td>\n",
       "      <td>43.2</td>\n",
       "      <td>27-JUN-24 01.24.57.000000000 PM</td>\n",
       "      <td>1000.00</td>\n",
       "      <td>202406</td>\n",
       "      <td>Automatic</td>\n",
       "    </tr>\n",
       "    <tr>\n",
       "      <th>4</th>\n",
       "      <td>19-Mar-24</td>\n",
       "      <td>14 days</td>\n",
       "      <td>360</td>\n",
       "      <td>43.2</td>\n",
       "      <td>27-JUN-24 01.31.44.000000000 PM</td>\n",
       "      <td>801.00</td>\n",
       "      <td>202406</td>\n",
       "      <td>Manual</td>\n",
       "    </tr>\n",
       "  </tbody>\n",
       "</table>\n",
       "</div>"
      ],
      "text/plain": [
       "   disb_date   tenure  loan_amount  loan_fee                        date_time  \\\n",
       "0  19-Mar-24  14 days          360      43.2  27-JUN-24 07.16.36.000000000 AM   \n",
       "1  19-Mar-24  14 days          360      43.2  27-JUN-24 05.26.50.000000000 PM   \n",
       "2  19-Mar-24  14 days          360      43.2  27-JUN-24 06.45.40.000000000 PM   \n",
       "3  19-Mar-24  14 days          360      43.2  27-JUN-24 01.24.57.000000000 PM   \n",
       "4  19-Mar-24  14 days          360      43.2  27-JUN-24 01.31.44.000000000 PM   \n",
       "\n",
       "    amount  rep_month repayment_type  \n",
       "0   500.65     202406      Automatic  \n",
       "1  2833.33     202406      Automatic  \n",
       "2   143.98     202406      Automatic  \n",
       "3  1000.00     202406      Automatic  \n",
       "4   801.00     202406         Manual  "
      ]
     },
     "execution_count": 20,
     "metadata": {},
     "output_type": "execute_result"
    }
   ],
   "source": [
    "\n",
    "# Load loan disbursement and repayment data\n",
    "data = pd.read_csv('data/loan.csv')\n",
    "data.head()"
   ]
  },
  {
   "cell_type": "code",
   "execution_count": 21,
   "metadata": {},
   "outputs": [
    {
     "name": "stderr",
     "output_type": "stream",
     "text": [
      "C:\\Users\\R\\AppData\\Local\\Temp\\ipykernel_11000\\3828007454.py:3: UserWarning: Could not infer format, so each element will be parsed individually, falling back to `dateutil`. To ensure parsing is consistent and as-expected, please specify a format.\n",
      "  data['date_time'] = pd.to_datetime(data['date_time'], errors='coerce');\n"
     ]
    }
   ],
   "source": [
    "# Convert date columns to datetime format\n",
    "data['disb_date'] = pd.to_datetime(data['disb_date'], format='%d-%b-%y', errors='coerce')\n",
    "data['date_time'] = pd.to_datetime(data['date_time'], errors='coerce');"
   ]
  },
  {
   "cell_type": "code",
   "execution_count": 22,
   "metadata": {},
   "outputs": [],
   "source": [
    "# Extract month and year for analysis\n",
    "data['disb_month'] = data['disb_date'].dt.to_period('M')\n",
    "data['rep_month'] = pd.to_datetime(data['rep_month'], format='%Y%m', errors='coerce').dt.to_period('M')"
   ]
  },
  {
   "cell_type": "code",
   "execution_count": 23,
   "metadata": {},
   "outputs": [],
   "source": [
    "\n",
    "# Assumptions for Forecasting\n",
    "interest_rate = 0.15 / 12  # Monthly interest rate (assumed 15% annually)\n",
    "operational_cost_ratio = 0.20  # 20% of the loan amount as operational cost\n",
    "default_rate = 0.05  # 5% assumed default rate"
   ]
  },
  {
   "cell_type": "code",
   "execution_count": 24,
   "metadata": {},
   "outputs": [],
   "source": [
    "# Calculate expected repayment amount per loan\n",
    "data['expected_repayment'] = data['loan_amount'] * (1 + interest_rate * 1)  # Assuming 1-month repayment\n",
    "data['operational_cost'] = data['loan_amount'] * operational_cost_ratio\n",
    "data['default_loss'] = data['loan_amount'] * default_rate\n",
    "\n",
    "data['profit'] = data['amount'] - (data['loan_amount'] + data['operational_cost'] + data['default_loss'])"
   ]
  },
  {
   "cell_type": "code",
   "execution_count": 25,
   "metadata": {},
   "outputs": [],
   "source": [
    "# Aggregate data by disbursement month\n",
    "monthly_forecast = data.groupby('disb_month').agg({\n",
    "    'loan_amount': 'sum',\n",
    "    'expected_repayment': 'sum',\n",
    "    'operational_cost': 'sum',\n",
    "    'default_loss': 'sum',\n",
    "    'profit': 'sum'\n",
    "}).tail(3)  # Last 3 months"
   ]
  },
  {
   "cell_type": "code",
   "execution_count": 26,
   "metadata": {},
   "outputs": [
    {
     "data": {
      "image/png": "[encoded data removed]",
      "text/plain": [
       "<Figure size 1000x500 with 1 Axes>"
      ]
     },
     "metadata": {},
     "output_type": "display_data"
    }
   ],
   "source": [
    "# Plot profit/loss trend\n",
    "plt.figure(figsize=(10, 5))\n",
    "plt.plot(monthly_forecast.index.astype(str), monthly_forecast['profit'], marker='o', linestyle='-', color='red', label='Profit/Loss')\n",
    "plt.axhline(0, color='black', linewidth=0.8, linestyle='--')\n",
    "plt.xlabel(\"Month\")\n",
    "plt.ylabel(\"Profit/Loss ($)\")\n",
    "plt.title(\"3-Month Profit/Loss Forecast\")\n",
    "plt.legend()\n",
    "plt.grid(True)\n",
    "plt.show()\n"
   ]
  },
  {
   "cell_type": "code",
   "execution_count": 27,
   "metadata": {},
   "outputs": [
    {
     "data": {
      "application/vnd.microsoft.datawrangler.viewer.v0+json": {
       "columns": [
        {
         "name": "disb_month",
         "rawType": "period[M]",
         "type": "unknown"
        },
        {
         "name": "loan_amount",
         "rawType": "int64",
         "type": "integer"
        },
        {
         "name": "expected_repayment",
         "rawType": "float64",
         "type": "float"
        },
        {
         "name": "operational_cost",
         "rawType": "float64",
         "type": "float"
        },
        {
         "name": "default_loss",
         "rawType": "float64",
         "type": "float"
        },
        {
         "name": "profit",
         "rawType": "float64",
         "type": "float"
        }
       ],
       "conversionMethod": "pd.DataFrame",
       "ref": "12176744-e8ad-4ceb-aa2a-b74dc7fcc887",
       "rows": [
        [
         "2024-06",
         "108765082",
         "110124645.525",
         "21753016.4",
         "5438254.1",
         "-92652454.76"
        ],
        [
         "2024-07",
         "92123405",
         "93274947.5625",
         "18424681.0",
         "4606170.25",
         "-76046995.12"
        ],
        [
         "2024-08",
         "34147772",
         "34574619.15",
         "6829554.4",
         "1707388.6",
         "-28716373.28"
        ]
       ],
       "shape": {
        "columns": 5,
        "rows": 3
       }
      },
      "text/html": [
       "<div>\n",
       "<style scoped>\n",
       "    .dataframe tbody tr th:only-of-type {\n",
       "        vertical-align: middle;\n",
       "    }\n",
       "\n",
       "    .dataframe tbody tr th {\n",
       "        vertical-align: top;\n",
       "    }\n",
       "\n",
       "    .dataframe thead th {\n",
       "        text-align: right;\n",
       "    }\n",
       "</style>\n",
       "<table border=\"1\" class=\"dataframe\">\n",
       "  <thead>\n",
       "    <tr style=\"text-align: right;\">\n",
       "      <th></th>\n",
       "      <th>loan_amount</th>\n",
       "      <th>expected_repayment</th>\n",
       "      <th>operational_cost</th>\n",
       "      <th>default_loss</th>\n",
       "      <th>profit</th>\n",
       "    </tr>\n",
       "    <tr>\n",
       "      <th>disb_month</th>\n",
       "      <th></th>\n",
       "      <th></th>\n",
       "      <th></th>\n",
       "      <th></th>\n",
       "      <th></th>\n",
       "    </tr>\n",
       "  </thead>\n",
       "  <tbody>\n",
       "    <tr>\n",
       "      <th>2024-06</th>\n",
       "      <td>108765082</td>\n",
       "      <td>1.101246e+08</td>\n",
       "      <td>21753016.4</td>\n",
       "      <td>5438254.10</td>\n",
       "      <td>-92652454.76</td>\n",
       "    </tr>\n",
       "    <tr>\n",
       "      <th>2024-07</th>\n",
       "      <td>92123405</td>\n",
       "      <td>9.327495e+07</td>\n",
       "      <td>18424681.0</td>\n",
       "      <td>4606170.25</td>\n",
       "      <td>-76046995.12</td>\n",
       "    </tr>\n",
       "    <tr>\n",
       "      <th>2024-08</th>\n",
       "      <td>34147772</td>\n",
       "      <td>3.457462e+07</td>\n",
       "      <td>6829554.4</td>\n",
       "      <td>1707388.60</td>\n",
       "      <td>-28716373.28</td>\n",
       "    </tr>\n",
       "  </tbody>\n",
       "</table>\n",
       "</div>"
      ],
      "text/plain": [
       "            loan_amount  expected_repayment  operational_cost  default_loss  \\\n",
       "disb_month                                                                    \n",
       "2024-06       108765082        1.101246e+08        21753016.4    5438254.10   \n",
       "2024-07        92123405        9.327495e+07        18424681.0    4606170.25   \n",
       "2024-08        34147772        3.457462e+07         6829554.4    1707388.60   \n",
       "\n",
       "                 profit  \n",
       "disb_month               \n",
       "2024-06    -92652454.76  \n",
       "2024-07    -76046995.12  \n",
       "2024-08    -28716373.28  "
      ]
     },
     "metadata": {},
     "output_type": "display_data"
    }
   ],
   "source": [
    "# Display forecast\n",
    "display(monthly_forecast)\n"
   ]
  },
  {
   "cell_type": "code",
   "execution_count": null,
   "metadata": {},
   "outputs": [],
   "source": []
  }
 ],
 "metadata": {
  "kernelspec": {
   "display_name": "Python 3",
   "language": "python",
   "name": "python3"
  },
  "language_info": {
   "codemirror_mode": {
    "name": "ipython",
    "version": 3
   },
   "file_extension": ".py",
   "mimetype": "text/x-python",
   "name": "python",
   "nbconvert_exporter": "python",
   "pygments_lexer": "ipython3",
   "version": "3.13.2"
  }
 },
 "nbformat": 4,
 "nbformat_minor": 2
}
