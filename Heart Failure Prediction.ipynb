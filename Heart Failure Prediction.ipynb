{
 "cells": [
  {
   "cell_type": "markdown",
   "id": "d96c2952",
   "metadata": {},
   "source": [
    "## **HEART FAILURE PREDICTION**"
   ]
  },
  {
   "cell_type": "markdown",
   "id": "13afea9f",
   "metadata": {},
   "source": [
    "### **Context**\n",
    "`Cardiovascular diseases `(CVDs) remain the leading cause of death globally, accounting for an estimated 17.9 million deaths annually, or 31% of all global mortality. The majority of these deaths — about `4 in every 5` — are due to heart attacks and strokes, with one-third occurring prematurely in individuals under the age of 70. These conditions arise due to complex interactions among genetic, behavioral, and physiological risk factors.\n",
    "\n",
    "The early detection and prediction of heart disease — a major category within CVDs — can be significantly improved by analyzing key clinical and lifestyle-related indicators. "
   ]
  },
  {
   "cell_type": "markdown",
   "id": "4b9bb963",
   "metadata": {},
   "source": [
    "### **Attribute Information**\n",
    "\n",
    "1. Age: age of the patient [years]\n",
    "2. Sex: sex of the patient [M: Male, F: Female]\n",
    "3. ChestPainType: chest pain type [TA: Typical Angina, ATA: Atypical Angina, NAP: Non-Anginal Pain, ASY: Asymptomatic]\n",
    "4. RestingBP: resting blood pressure [mm Hg]\n",
    "5. holesterol: serum cholesterol [mm/dl]\n",
    "6. FastingBS: fasting blood sugar [1: if FastingBS > 120 mg/dl, 0: otherwise]\n",
    "7. RestingECG: resting electrocardiogram results [Normal: Normal, ST: having ST-T wave abnormality (T wave inversions and/or ST elevation or depression of > 0.05 mV), LVH: showing probable or definite left ventricular hypertrophy by Estes' criteria]\n",
    "   \n",
    "8. MaxHR: maximum heart rate achieved [Numeric value between 60 and 202]\n",
    "9.  ExerciseAngina: exercise-induced angina [Y: Yes, N: No]\n",
    "10. ldpeak: oldpeak = ST [Numeric value measured in depression]\n",
    "11. ST_Slope: the slope of the peak exercise ST segment [Up: upsloping, Flat: flat, Down: downsloping]\n",
    "12. Target Variable: HeartDisease: output class [1: heart disease, 0: Normal]"
   ]
  },
  {
   "cell_type": "markdown",
   "id": "2e3581fe",
   "metadata": {},
   "source": [
    "**`Libraries`**"
   ]
  },
  {
   "cell_type": "code",
   "execution_count": null,
   "id": "da60d9ab",
   "metadata": {},
   "outputs": [],
   "source": [
    "import warnings\n",
    "\n",
    "import plotly.express as px\n",
    "import matplotlib.pyplot as plt\n",
    "import numpy as np\n",
    "import pandas as pd\n",
    "import seaborn as sns\n",
    "from category_encoders import OneHotEncoder\n",
    "from sklearn.linear_model import LogisticRegression\n",
    "from sklearn.metrics import accuracy_score\n",
    "from sklearn.model_selection import train_test_split\n",
    "from sklearn.pipeline import Pipeline, make_pipeline\n",
    "from sklearn.utils.validation import check_is_fitted\n",
    "\n",
    "warnings.simplefilter(action=\"ignore\", category=FutureWarning)"
   ]
  },
  {
   "cell_type": "markdown",
   "id": "df5bb2fb",
   "metadata": {},
   "source": [
    "### **Prepare Data**"
   ]
  },
  {
   "cell_type": "markdown",
   "id": "faf1098d",
   "metadata": {},
   "source": [
    "`Wrangle Fucntion`"
   ]
  },
  {
   "cell_type": "code",
   "execution_count": 71,
   "id": "30e0c0cd",
   "metadata": {},
   "outputs": [],
   "source": [
    "def wrangle_data(filepath):\n",
    "    # Load the dataset\n",
    "    df = pd.read_csv('data/heart.csv')\n",
    "    \n",
    "\n",
    "    # Drop potentially leaky features\n",
    "    df = df.drop(['Oldpeak', 'ST_Slope'], axis=1)\n",
    "\n",
    "    # Remove outliers\n",
    "    df = df[df['Age'] >= 35]\n",
    "\n",
    "    df = df[\n",
    "    (df['Age'] >= 35) &\n",
    "    (df['Cholesterol'] >= 100) & (df['Cholesterol'] <= 400) &\n",
    "    (df['MaxHR'] >= 90) & (df['MaxHR'] <= 180) &\n",
    "    (df['RestingBP'] >= 90) & (df['RestingBP'] <= 175)\n",
    "]\n",
    "\n",
    "\n",
    "\n",
    "    # Clean the data\n",
    "    df.dropna(inplace=True)\n",
    "    \n",
    "    \n",
    "    return df"
   ]
  },
  {
   "cell_type": "code",
   "execution_count": 72,
   "id": "c9a88917",
   "metadata": {},
   "outputs": [
    {
     "data": {
      "application/vnd.microsoft.datawrangler.viewer.v0+json": {
       "columns": [
        {
         "name": "index",
         "rawType": "int64",
         "type": "integer"
        },
        {
         "name": "Age",
         "rawType": "int64",
         "type": "integer"
        },
        {
         "name": "Sex",
         "rawType": "object",
         "type": "string"
        },
        {
         "name": "ChestPainType",
         "rawType": "object",
         "type": "string"
        },
        {
         "name": "RestingBP",
         "rawType": "int64",
         "type": "integer"
        },
        {
         "name": "Cholesterol",
         "rawType": "int64",
         "type": "integer"
        },
        {
         "name": "FastingBS",
         "rawType": "int64",
         "type": "integer"
        },
        {
         "name": "RestingECG",
         "rawType": "object",
         "type": "string"
        },
        {
         "name": "MaxHR",
         "rawType": "int64",
         "type": "integer"
        },
        {
         "name": "ExerciseAngina",
         "rawType": "object",
         "type": "string"
        },
        {
         "name": "HeartDisease",
         "rawType": "int64",
         "type": "integer"
        }
       ],
       "conversionMethod": "pd.DataFrame",
       "ref": "3b978295-4dec-4f1c-871d-051cff59fc5c",
       "rows": [
        [
         "0",
         "40",
         "M",
         "ATA",
         "140",
         "289",
         "0",
         "Normal",
         "172",
         "N",
         "0"
        ],
        [
         "1",
         "49",
         "F",
         "NAP",
         "160",
         "180",
         "0",
         "Normal",
         "156",
         "N",
         "1"
        ],
        [
         "2",
         "37",
         "M",
         "ATA",
         "130",
         "283",
         "0",
         "ST",
         "98",
         "N",
         "0"
        ],
        [
         "3",
         "48",
         "F",
         "ASY",
         "138",
         "214",
         "0",
         "Normal",
         "108",
         "Y",
         "1"
        ],
        [
         "4",
         "54",
         "M",
         "NAP",
         "150",
         "195",
         "0",
         "Normal",
         "122",
         "N",
         "0"
        ]
       ],
       "shape": {
        "columns": 10,
        "rows": 5
       }
      },
      "text/html": [
       "<div>\n",
       "<style scoped>\n",
       "    .dataframe tbody tr th:only-of-type {\n",
       "        vertical-align: middle;\n",
       "    }\n",
       "\n",
       "    .dataframe tbody tr th {\n",
       "        vertical-align: top;\n",
       "    }\n",
       "\n",
       "    .dataframe thead th {\n",
       "        text-align: right;\n",
       "    }\n",
       "</style>\n",
       "<table border=\"1\" class=\"dataframe\">\n",
       "  <thead>\n",
       "    <tr style=\"text-align: right;\">\n",
       "      <th></th>\n",
       "      <th>Age</th>\n",
       "      <th>Sex</th>\n",
       "      <th>ChestPainType</th>\n",
       "      <th>RestingBP</th>\n",
       "      <th>Cholesterol</th>\n",
       "      <th>FastingBS</th>\n",
       "      <th>RestingECG</th>\n",
       "      <th>MaxHR</th>\n",
       "      <th>ExerciseAngina</th>\n",
       "      <th>HeartDisease</th>\n",
       "    </tr>\n",
       "  </thead>\n",
       "  <tbody>\n",
       "    <tr>\n",
       "      <th>0</th>\n",
       "      <td>40</td>\n",
       "      <td>M</td>\n",
       "      <td>ATA</td>\n",
       "      <td>140</td>\n",
       "      <td>289</td>\n",
       "      <td>0</td>\n",
       "      <td>Normal</td>\n",
       "      <td>172</td>\n",
       "      <td>N</td>\n",
       "      <td>0</td>\n",
       "    </tr>\n",
       "    <tr>\n",
       "      <th>1</th>\n",
       "      <td>49</td>\n",
       "      <td>F</td>\n",
       "      <td>NAP</td>\n",
       "      <td>160</td>\n",
       "      <td>180</td>\n",
       "      <td>0</td>\n",
       "      <td>Normal</td>\n",
       "      <td>156</td>\n",
       "      <td>N</td>\n",
       "      <td>1</td>\n",
       "    </tr>\n",
       "    <tr>\n",
       "      <th>2</th>\n",
       "      <td>37</td>\n",
       "      <td>M</td>\n",
       "      <td>ATA</td>\n",
       "      <td>130</td>\n",
       "      <td>283</td>\n",
       "      <td>0</td>\n",
       "      <td>ST</td>\n",
       "      <td>98</td>\n",
       "      <td>N</td>\n",
       "      <td>0</td>\n",
       "    </tr>\n",
       "    <tr>\n",
       "      <th>3</th>\n",
       "      <td>48</td>\n",
       "      <td>F</td>\n",
       "      <td>ASY</td>\n",
       "      <td>138</td>\n",
       "      <td>214</td>\n",
       "      <td>0</td>\n",
       "      <td>Normal</td>\n",
       "      <td>108</td>\n",
       "      <td>Y</td>\n",
       "      <td>1</td>\n",
       "    </tr>\n",
       "    <tr>\n",
       "      <th>4</th>\n",
       "      <td>54</td>\n",
       "      <td>M</td>\n",
       "      <td>NAP</td>\n",
       "      <td>150</td>\n",
       "      <td>195</td>\n",
       "      <td>0</td>\n",
       "      <td>Normal</td>\n",
       "      <td>122</td>\n",
       "      <td>N</td>\n",
       "      <td>0</td>\n",
       "    </tr>\n",
       "  </tbody>\n",
       "</table>\n",
       "</div>"
      ],
      "text/plain": [
       "   Age Sex ChestPainType  RestingBP  Cholesterol  FastingBS RestingECG  MaxHR  \\\n",
       "0   40   M           ATA        140          289          0     Normal    172   \n",
       "1   49   F           NAP        160          180          0     Normal    156   \n",
       "2   37   M           ATA        130          283          0         ST     98   \n",
       "3   48   F           ASY        138          214          0     Normal    108   \n",
       "4   54   M           NAP        150          195          0     Normal    122   \n",
       "\n",
       "  ExerciseAngina  HeartDisease  \n",
       "0              N             0  \n",
       "1              N             1  \n",
       "2              N             0  \n",
       "3              Y             1  \n",
       "4              N             0  "
      ]
     },
     "execution_count": 72,
     "metadata": {},
     "output_type": "execute_result"
    }
   ],
   "source": [
    "df = wrangle_data('data/heart.csv')\n",
    "df.head()"
   ]
  },
  {
   "cell_type": "code",
   "execution_count": 81,
   "metadata": {},
   "outputs": [
    {
     "name": "stdout",
     "output_type": "stream",
     "text": [
      "<class 'pandas.core.frame.DataFrame'>\n",
      "Index: 667 entries, 0 to 917\n",
      "Data columns (total 10 columns):\n",
      " #   Column          Non-Null Count  Dtype \n",
      "---  ------          --------------  ----- \n",
      " 0   Age             667 non-null    int64 \n",
      " 1   Sex             667 non-null    object\n",
      " 2   ChestPainType   667 non-null    object\n",
      " 3   RestingBP       667 non-null    int64 \n",
      " 4   Cholesterol     667 non-null    int64 \n",
      " 5   FastingBS       667 non-null    int64 \n",
      " 6   RestingECG      667 non-null    object\n",
      " 7   MaxHR           667 non-null    int64 \n",
      " 8   ExerciseAngina  667 non-null    object\n",
      " 9   HeartDisease    667 non-null    int64 \n",
      "dtypes: int64(6), object(4)\n",
      "memory usage: 57.3+ KB\n"
     ]
    }
   ],
   "source": [
    "df.info()"
   ]
  },
  {
   "cell_type": "code",
   "execution_count": 75,
   "id": "b857a194",
   "metadata": {},
   "outputs": [
    {
     "name": "stdout",
     "output_type": "stream",
     "text": [
      "HeartDisease\n",
      "0    342\n",
      "1    325\n",
      "Name: count, dtype: int64\n"
     ]
    }
   ],
   "source": [
    "print(df[\"HeartDisease\"].value_counts())"
   ]
  },
  {
   "cell_type": "markdown",
   "id": "962b5320",
   "metadata": {},
   "source": [
    "### **Explore**"
   ]
  },
  {
   "cell_type": "markdown",
   "id": "50f780f6",
   "metadata": {},
   "source": [
    "Check for  multicollinearity "
   ]
  },
  {
   "cell_type": "code",
   "execution_count": 82,
   "id": "692bfd96",
   "metadata": {},
   "outputs": [
    {
     "data": {
      "image/png": "[encoded data removed]",
      "text/plain": [
       "<Figure size 640x480 with 2 Axes>"
      ]
     },
     "metadata": {},
     "output_type": "display_data"
    }
   ],
   "source": [
    "# Create correlation matrix\n",
    "correlation = df.select_dtypes(\"number\").drop(columns = \"HeartDisease\").corr()\n",
    "\n",
    "# Plot heatmap of `correlation`\n",
    "sns.heatmap(correlation);\n"
   ]
  },
  {
   "cell_type": "markdown",
   "id": "43f6be62",
   "metadata": {},
   "source": [
    "Check for outliers"
   ]
  },
  {
   "cell_type": "code",
   "execution_count": 83,
   "id": "a8d92c63",
   "metadata": {},
   "outputs": [
    {
     "data": {
      "image/png": "[encoded data removed]",
      "text/plain": [
       "<Figure size 1200x1000 with 4 Axes>"
      ]
     },
     "metadata": {},
     "output_type": "display_data"
    }
   ],
   "source": [
    "import seaborn as sns\n",
    "import matplotlib.pyplot as plt\n",
    "\n",
    "# Variables to plot\n",
    "variables = [\"Age\", \"Cholesterol\",  \"MaxHR\", \"RestingBP\"]\n",
    "\n",
    "# Create subplots with 2 x 2 grid\n",
    "fig, axes = plt.subplots(nrows=2, ncols=2, figsize=(12, 10))\n",
    "\n",
    "# Flatten axes to make iteration easier\n",
    "axes = axes.flatten()\n",
    "\n",
    "# If axes is a 1D array, loop normally\n",
    "for i, var in enumerate(variables):\n",
    "    sns.boxplot(data = df, x = \"HeartDisease\", y = var, ax = axes[i])\n",
    "    axes[i].set_title(f'{var} vs HeartDisease')\n",
    "    axes[i].set_xlabel('HeartDisease')\n",
    "    axes[i].set_ylabel(var)\n",
    "\n",
    "plt.tight_layout()\n",
    "plt.show()\n"
   ]
  },
  {
   "cell_type": "markdown",
   "id": "5b5df205",
   "metadata": {},
   "source": [
    "Pivot Table"
   ]
  },
  {
   "cell_type": "code",
   "execution_count": 78,
   "id": "2596ab38",
   "metadata": {},
   "outputs": [
    {
     "data": {
      "text/plain": [
       "HeartDisease\n",
       "0    0.512744\n",
       "1    0.487256\n",
       "Name: proportion, dtype: float64"
      ]
     },
     "execution_count": 78,
     "metadata": {},
     "output_type": "execute_result"
    }
   ],
   "source": [
    "df[\"HeartDisease\"].value_counts(normalize = True)"
   ]
  },
  {
   "cell_type": "code",
   "execution_count": 58,
   "id": "1326770f",
   "metadata": {},
   "outputs": [
    {
     "name": "stdout",
     "output_type": "stream",
     "text": [
      "0.512743628185907 0.487256371814093\n"
     ]
    }
   ],
   "source": [
    "majority_class_prop, minority_class_prop = df[\"HeartDisease\"].value_counts(normalize = True)\n",
    "print(majority_class_prop, minority_class_prop)"
   ]
  },
  {
   "cell_type": "code",
   "execution_count": 88,
   "id": "cca1ea0a",
   "metadata": {},
   "outputs": [
    {
     "data": {
      "application/vnd.microsoft.datawrangler.viewer.v0+json": {
       "columns": [
        {
         "name": "ChestPainType",
         "rawType": "object",
         "type": "string"
        },
        {
         "name": "HeartDisease",
         "rawType": "float64",
         "type": "float"
        }
       ],
       "conversionMethod": "pd.DataFrame",
       "ref": "0fd27888-fff3-4e64-b283-601d2ddf4245",
       "rows": [
        [
         "ATA",
         "0.12413793103448276"
        ],
        [
         "NAP",
         "0.28205128205128205"
        ],
        [
         "TA",
         "0.38235294117647056"
        ],
        [
         "ASY",
         "0.7530120481927711"
        ]
       ],
       "shape": {
        "columns": 1,
        "rows": 4
       }
      },
      "text/html": [
       "<div>\n",
       "<style scoped>\n",
       "    .dataframe tbody tr th:only-of-type {\n",
       "        vertical-align: middle;\n",
       "    }\n",
       "\n",
       "    .dataframe tbody tr th {\n",
       "        vertical-align: top;\n",
       "    }\n",
       "\n",
       "    .dataframe thead th {\n",
       "        text-align: right;\n",
       "    }\n",
       "</style>\n",
       "<table border=\"1\" class=\"dataframe\">\n",
       "  <thead>\n",
       "    <tr style=\"text-align: right;\">\n",
       "      <th></th>\n",
       "      <th>HeartDisease</th>\n",
       "    </tr>\n",
       "    <tr>\n",
       "      <th>ChestPainType</th>\n",
       "      <th></th>\n",
       "    </tr>\n",
       "  </thead>\n",
       "  <tbody>\n",
       "    <tr>\n",
       "      <th>ATA</th>\n",
       "      <td>0.124138</td>\n",
       "    </tr>\n",
       "    <tr>\n",
       "      <th>NAP</th>\n",
       "      <td>0.282051</td>\n",
       "    </tr>\n",
       "    <tr>\n",
       "      <th>TA</th>\n",
       "      <td>0.382353</td>\n",
       "    </tr>\n",
       "    <tr>\n",
       "      <th>ASY</th>\n",
       "      <td>0.753012</td>\n",
       "    </tr>\n",
       "  </tbody>\n",
       "</table>\n",
       "</div>"
      ],
      "text/plain": [
       "               HeartDisease\n",
       "ChestPainType              \n",
       "ATA                0.124138\n",
       "NAP                0.282051\n",
       "TA                 0.382353\n",
       "ASY                0.753012"
      ]
     },
     "execution_count": 88,
     "metadata": {},
     "output_type": "execute_result"
    }
   ],
   "source": [
    "chestpain_pivot = pd.pivot_table(df, index = \"ChestPainType\", \n",
    "    values = \"HeartDisease\", aggfunc = np.mean).sort_values(by = \"HeartDisease\")\n",
    "chestpain_pivot"
   ]
  },
  {
   "cell_type": "markdown",
   "id": "c05520b9",
   "metadata": {},
   "source": [
    "Plot bar chart"
   ]
  },
  {
   "cell_type": "code",
   "execution_count": 89,
   "id": "ad6e9efa",
   "metadata": {},
   "outputs": [
    {
     "data": {
      "image/png": "[encoded data removed]",
      "text/plain": [
       "<Figure size 640x480 with 1 Axes>"
      ]
     },
     "metadata": {},
     "output_type": "display_data"
    }
   ],
   "source": [
    "chestpain_pivot.plot(kind = \"barh\", legend = None)\n",
    "plt.axvline(majority_class_prop, linestyle = \"--\", color = \"red\", label = \"majority class\")\n",
    "plt.axvline(minority_class_prop, linestyle = \"--\", color = \"green\", label = \"minority class\")\n",
    "plt.legend(loc = \"lower right\");"
   ]
  },
  {
   "cell_type": "code",
   "execution_count": null,
   "id": "637320fa",
   "metadata": {},
   "outputs": [],
   "source": []
  },
  {
   "cell_type": "code",
   "execution_count": null,
   "id": "dba41ae3",
   "metadata": {},
   "outputs": [],
   "source": []
  },
  {
   "cell_type": "code",
   "execution_count": null,
   "id": "c5b663ee",
   "metadata": {},
   "outputs": [],
   "source": []
  },
  {
   "cell_type": "code",
   "execution_count": null,
   "id": "e04253fa",
   "metadata": {},
   "outputs": [],
   "source": []
  },
  {
   "cell_type": "code",
   "execution_count": null,
   "id": "ed566372",
   "metadata": {},
   "outputs": [],
   "source": []
  }
 ],
 "metadata": {
  "kernelspec": {
   "display_name": "Python 3",
   "language": "python",
   "name": "python3"
  },
  "language_info": {
   "codemirror_mode": {
    "name": "ipython",
    "version": 3
   },
   "file_extension": ".py",
   "mimetype": "text/x-python",
   "name": "python",
   "nbconvert_exporter": "python",
   "pygments_lexer": "ipython3",
   "version": "3.13.2"
  }
 },
 "nbformat": 4,
 "nbformat_minor": 5
}
