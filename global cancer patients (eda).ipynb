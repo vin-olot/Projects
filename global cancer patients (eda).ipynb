{
 "cells": [
  {
   "cell_type": "markdown",
   "id": "237fcf35",
   "metadata": {},
   "source": [
    "### **Global Cancer Patients: 2015 - 2024**"
   ]
  },
  {
   "cell_type": "markdown",
   "id": "cb62a2fb",
   "metadata": {},
   "source": [
    "### **Import libraries**"
   ]
  },
  {
   "cell_type": "code",
   "execution_count": null,
   "id": "f9ca6a53",
   "metadata": {},
   "outputs": [],
   "source": [
    "import warnings\n",
    "warnings.simplefilter(action=\"ignore\", category=FutureWarning)\n",
    "\n",
    "import pandas as pd \n",
    "import seaborn as sns \n",
    "import matplotlib.pyplot as plt\n",
    "import numpy as np\n"
   ]
  },
  {
   "cell_type": "markdown",
   "id": "614e9074",
   "metadata": {},
   "source": [
    "### **Load Data**"
   ]
  },
  {
   "cell_type": "code",
   "execution_count": 2,
   "id": "bae5c985",
   "metadata": {},
   "outputs": [],
   "source": [
    "df = pd.read_csv(r\"C:\\Users\\R\\Desktop\\Data Analysis\\Datasets\\global_cancer_patients_2015_2024.csv\")"
   ]
  },
  {
   "cell_type": "code",
   "execution_count": 3,
   "id": "bbfceb29",
   "metadata": {},
   "outputs": [
    {
     "name": "stdout",
     "output_type": "stream",
     "text": [
      "<class 'pandas.core.frame.DataFrame'>\n",
      "RangeIndex: 50000 entries, 0 to 49999\n",
      "Data columns (total 14 columns):\n",
      " #   Column                 Non-Null Count  Dtype  \n",
      "---  ------                 --------------  -----  \n",
      " 0   Age                    50000 non-null  int64  \n",
      " 1   Gender                 50000 non-null  object \n",
      " 2   Country_Region         50000 non-null  object \n",
      " 3   Year                   50000 non-null  int64  \n",
      " 4   Genetic_Risk           50000 non-null  float64\n",
      " 5   Air_Pollution          50000 non-null  float64\n",
      " 6   Alcohol_Use            50000 non-null  float64\n",
      " 7   Smoking                50000 non-null  float64\n",
      " 8   Obesity_Level          50000 non-null  float64\n",
      " 9   Cancer_Type            50000 non-null  object \n",
      " 10  Cancer_Stage           50000 non-null  object \n",
      " 11  Treatment_Cost_USD     50000 non-null  float64\n",
      " 12  Survival_Years         50000 non-null  float64\n",
      " 13  Target_Severity_Score  50000 non-null  float64\n",
      "dtypes: float64(8), int64(2), object(4)\n",
      "memory usage: 5.3+ MB\n",
      "None\n",
      "(50000, 14)\n"
     ]
    }
   ],
   "source": [
    "print(df.info())\n",
    "print(df.shape)"
   ]
  },
  {
   "cell_type": "code",
   "execution_count": 4,
   "id": "7c207458",
   "metadata": {},
   "outputs": [
    {
     "data": {
      "application/vnd.microsoft.datawrangler.viewer.v0+json": {
       "columns": [
        {
         "name": "index",
         "rawType": "int64",
         "type": "integer"
        },
        {
         "name": "Age",
         "rawType": "int64",
         "type": "integer"
        },
        {
         "name": "Gender",
         "rawType": "object",
         "type": "string"
        },
        {
         "name": "Country_Region",
         "rawType": "object",
         "type": "string"
        },
        {
         "name": "Year",
         "rawType": "int64",
         "type": "integer"
        },
        {
         "name": "Genetic_Risk",
         "rawType": "float64",
         "type": "float"
        },
        {
         "name": "Air_Pollution",
         "rawType": "float64",
         "type": "float"
        },
        {
         "name": "Alcohol_Use",
         "rawType": "float64",
         "type": "float"
        },
        {
         "name": "Smoking",
         "rawType": "float64",
         "type": "float"
        },
        {
         "name": "Obesity_Level",
         "rawType": "float64",
         "type": "float"
        },
        {
         "name": "Cancer_Type",
         "rawType": "object",
         "type": "string"
        },
        {
         "name": "Cancer_Stage",
         "rawType": "object",
         "type": "string"
        },
        {
         "name": "Treatment_Cost_USD",
         "rawType": "float64",
         "type": "float"
        },
        {
         "name": "Survival_Years",
         "rawType": "float64",
         "type": "float"
        },
        {
         "name": "Target_Severity_Score",
         "rawType": "float64",
         "type": "float"
        }
       ],
       "ref": "d55653ac-5700-4d7b-8be8-b96b20e87a6c",
       "rows": [
        [
         "0",
         "71",
         "Male",
         "UK",
         "2021",
         "6.4",
         "2.8",
         "9.5",
         "0.9",
         "8.7",
         "Lung",
         "Stage III",
         "62913.44",
         "5.9",
         "4.92"
        ],
        [
         "1",
         "34",
         "Male",
         "China",
         "2021",
         "1.3",
         "4.5",
         "3.7",
         "3.9",
         "6.3",
         "Leukemia",
         "Stage 0",
         "12573.41",
         "4.7",
         "4.65"
        ],
        [
         "2",
         "80",
         "Male",
         "Pakistan",
         "2023",
         "7.4",
         "7.9",
         "2.4",
         "4.7",
         "0.1",
         "Breast",
         "Stage II",
         "6984.33",
         "7.1",
         "5.84"
        ],
        [
         "3",
         "40",
         "Male",
         "UK",
         "2015",
         "1.7",
         "2.9",
         "4.8",
         "3.5",
         "2.7",
         "Colon",
         "Stage I",
         "67446.25",
         "1.6",
         "3.12"
        ],
        [
         "4",
         "43",
         "Female",
         "Brazil",
         "2017",
         "5.1",
         "2.8",
         "2.3",
         "6.7",
         "0.5",
         "Skin",
         "Stage III",
         "77977.12",
         "2.9",
         "3.62"
        ]
       ],
       "shape": {
        "columns": 14,
        "rows": 5
       }
      },
      "text/html": [
       "<div>\n",
       "<style scoped>\n",
       "    .dataframe tbody tr th:only-of-type {\n",
       "        vertical-align: middle;\n",
       "    }\n",
       "\n",
       "    .dataframe tbody tr th {\n",
       "        vertical-align: top;\n",
       "    }\n",
       "\n",
       "    .dataframe thead th {\n",
       "        text-align: right;\n",
       "    }\n",
       "</style>\n",
       "<table border=\"1\" class=\"dataframe\">\n",
       "  <thead>\n",
       "    <tr style=\"text-align: right;\">\n",
       "      <th></th>\n",
       "      <th>Age</th>\n",
       "      <th>Gender</th>\n",
       "      <th>Country_Region</th>\n",
       "      <th>Year</th>\n",
       "      <th>Genetic_Risk</th>\n",
       "      <th>Air_Pollution</th>\n",
       "      <th>Alcohol_Use</th>\n",
       "      <th>Smoking</th>\n",
       "      <th>Obesity_Level</th>\n",
       "      <th>Cancer_Type</th>\n",
       "      <th>Cancer_Stage</th>\n",
       "      <th>Treatment_Cost_USD</th>\n",
       "      <th>Survival_Years</th>\n",
       "      <th>Target_Severity_Score</th>\n",
       "    </tr>\n",
       "  </thead>\n",
       "  <tbody>\n",
       "    <tr>\n",
       "      <th>0</th>\n",
       "      <td>71</td>\n",
       "      <td>Male</td>\n",
       "      <td>UK</td>\n",
       "      <td>2021</td>\n",
       "      <td>6.4</td>\n",
       "      <td>2.8</td>\n",
       "      <td>9.5</td>\n",
       "      <td>0.9</td>\n",
       "      <td>8.7</td>\n",
       "      <td>Lung</td>\n",
       "      <td>Stage III</td>\n",
       "      <td>62913.44</td>\n",
       "      <td>5.9</td>\n",
       "      <td>4.92</td>\n",
       "    </tr>\n",
       "    <tr>\n",
       "      <th>1</th>\n",
       "      <td>34</td>\n",
       "      <td>Male</td>\n",
       "      <td>China</td>\n",
       "      <td>2021</td>\n",
       "      <td>1.3</td>\n",
       "      <td>4.5</td>\n",
       "      <td>3.7</td>\n",
       "      <td>3.9</td>\n",
       "      <td>6.3</td>\n",
       "      <td>Leukemia</td>\n",
       "      <td>Stage 0</td>\n",
       "      <td>12573.41</td>\n",
       "      <td>4.7</td>\n",
       "      <td>4.65</td>\n",
       "    </tr>\n",
       "    <tr>\n",
       "      <th>2</th>\n",
       "      <td>80</td>\n",
       "      <td>Male</td>\n",
       "      <td>Pakistan</td>\n",
       "      <td>2023</td>\n",
       "      <td>7.4</td>\n",
       "      <td>7.9</td>\n",
       "      <td>2.4</td>\n",
       "      <td>4.7</td>\n",
       "      <td>0.1</td>\n",
       "      <td>Breast</td>\n",
       "      <td>Stage II</td>\n",
       "      <td>6984.33</td>\n",
       "      <td>7.1</td>\n",
       "      <td>5.84</td>\n",
       "    </tr>\n",
       "    <tr>\n",
       "      <th>3</th>\n",
       "      <td>40</td>\n",
       "      <td>Male</td>\n",
       "      <td>UK</td>\n",
       "      <td>2015</td>\n",
       "      <td>1.7</td>\n",
       "      <td>2.9</td>\n",
       "      <td>4.8</td>\n",
       "      <td>3.5</td>\n",
       "      <td>2.7</td>\n",
       "      <td>Colon</td>\n",
       "      <td>Stage I</td>\n",
       "      <td>67446.25</td>\n",
       "      <td>1.6</td>\n",
       "      <td>3.12</td>\n",
       "    </tr>\n",
       "    <tr>\n",
       "      <th>4</th>\n",
       "      <td>43</td>\n",
       "      <td>Female</td>\n",
       "      <td>Brazil</td>\n",
       "      <td>2017</td>\n",
       "      <td>5.1</td>\n",
       "      <td>2.8</td>\n",
       "      <td>2.3</td>\n",
       "      <td>6.7</td>\n",
       "      <td>0.5</td>\n",
       "      <td>Skin</td>\n",
       "      <td>Stage III</td>\n",
       "      <td>77977.12</td>\n",
       "      <td>2.9</td>\n",
       "      <td>3.62</td>\n",
       "    </tr>\n",
       "  </tbody>\n",
       "</table>\n",
       "</div>"
      ],
      "text/plain": [
       "   Age  Gender Country_Region  Year  Genetic_Risk  Air_Pollution  Alcohol_Use  \\\n",
       "0   71    Male             UK  2021           6.4            2.8          9.5   \n",
       "1   34    Male          China  2021           1.3            4.5          3.7   \n",
       "2   80    Male       Pakistan  2023           7.4            7.9          2.4   \n",
       "3   40    Male             UK  2015           1.7            2.9          4.8   \n",
       "4   43  Female         Brazil  2017           5.1            2.8          2.3   \n",
       "\n",
       "   Smoking  Obesity_Level Cancer_Type Cancer_Stage  Treatment_Cost_USD  \\\n",
       "0      0.9            8.7        Lung    Stage III            62913.44   \n",
       "1      3.9            6.3    Leukemia      Stage 0            12573.41   \n",
       "2      4.7            0.1      Breast     Stage II             6984.33   \n",
       "3      3.5            2.7       Colon      Stage I            67446.25   \n",
       "4      6.7            0.5        Skin    Stage III            77977.12   \n",
       "\n",
       "   Survival_Years  Target_Severity_Score  \n",
       "0             5.9                   4.92  \n",
       "1             4.7                   4.65  \n",
       "2             7.1                   5.84  \n",
       "3             1.6                   3.12  \n",
       "4             2.9                   3.62  "
      ]
     },
     "execution_count": 4,
     "metadata": {},
     "output_type": "execute_result"
    }
   ],
   "source": [
    "df.head()"
   ]
  },
  {
   "cell_type": "markdown",
   "id": "e6dc497b",
   "metadata": {},
   "source": [
    "### **Explore data**"
   ]
  },
  {
   "cell_type": "markdown",
   "id": "42dd1fb8",
   "metadata": {},
   "source": [
    "#### Univariate Analysis"
   ]
  },
  {
   "cell_type": "markdown",
   "id": "32eb33e3",
   "metadata": {},
   "source": [
    "1. Age Distribution"
   ]
  },
  {
   "cell_type": "code",
   "execution_count": 5,
   "id": "c377387c",
   "metadata": {},
   "outputs": [
    {
     "data": {
      "application/vnd.microsoft.datawrangler.viewer.v0+json": {
       "columns": [
        {
         "name": "index",
         "rawType": "object",
         "type": "string"
        },
        {
         "name": "Age",
         "rawType": "float64",
         "type": "float"
        }
       ],
       "ref": "cbde9abc-f126-436a-af67-6c6e3a093a56",
       "rows": [
        [
         "count",
         "50000.0"
        ],
        [
         "mean",
         "54.42154"
        ],
        [
         "std",
         "20.224451156876714"
        ],
        [
         "min",
         "20.0"
        ],
        [
         "25%",
         "37.0"
        ],
        [
         "50%",
         "54.0"
        ],
        [
         "75%",
         "72.0"
        ],
        [
         "max",
         "89.0"
        ]
       ],
       "shape": {
        "columns": 1,
        "rows": 8
       }
      },
      "text/plain": [
       "count    50000.000000\n",
       "mean        54.421540\n",
       "std         20.224451\n",
       "min         20.000000\n",
       "25%         37.000000\n",
       "50%         54.000000\n",
       "75%         72.000000\n",
       "max         89.000000\n",
       "Name: Age, dtype: float64"
      ]
     },
     "execution_count": 5,
     "metadata": {},
     "output_type": "execute_result"
    }
   ],
   "source": [
    "df[\"Age\"].describe()"
   ]
  },
  {
   "cell_type": "code",
   "execution_count": 6,
   "id": "8a62f472",
   "metadata": {},
   "outputs": [
    {
     "data": {
      "image/png": "[encoded data removed]",
      "text/plain": [
       "<Figure size 640x480 with 1 Axes>"
      ]
     },
     "metadata": {},
     "output_type": "display_data"
    }
   ],
   "source": [
    "sns.boxplot(x=\"Age\", data=df,)\n",
    "plt.title(\"Age Distribution\");"
   ]
  },
  {
   "cell_type": "markdown",
   "id": "c5912d50",
   "metadata": {},
   "source": [
    "2. Cancer Type"
   ]
  },
  {
   "cell_type": "code",
   "execution_count": 7,
   "id": "b9bf62a5",
   "metadata": {},
   "outputs": [
    {
     "data": {
      "application/vnd.microsoft.datawrangler.viewer.v0+json": {
       "columns": [
        {
         "name": "Cancer_Type",
         "rawType": "object",
         "type": "string"
        },
        {
         "name": "count",
         "rawType": "float64",
         "type": "float"
        }
       ],
       "ref": "c1862d66-b155-4155-97f2-186335c150db",
       "rows": [
        [
         "Colon",
         "6.376"
        ],
        [
         "Prostate",
         "6.308"
        ],
        [
         "Leukemia",
         "6.266"
        ],
        [
         "Liver",
         "6.249"
        ],
        [
         "Skin",
         "6.231"
        ],
        [
         "Cervical",
         "6.222"
        ],
        [
         "Breast",
         "6.189"
        ],
        [
         "Lung",
         "6.159"
        ]
       ],
       "shape": {
        "columns": 1,
        "rows": 8
       }
      },
      "text/plain": [
       "Cancer_Type\n",
       "Colon       6.376\n",
       "Prostate    6.308\n",
       "Leukemia    6.266\n",
       "Liver       6.249\n",
       "Skin        6.231\n",
       "Cervical    6.222\n",
       "Breast      6.189\n",
       "Lung        6.159\n",
       "Name: count, dtype: float64"
      ]
     },
     "execution_count": 7,
     "metadata": {},
     "output_type": "execute_result"
    }
   ],
   "source": [
    "df[\"Cancer_Type\"].value_counts()/1000"
   ]
  },
  {
   "cell_type": "code",
   "execution_count": 8,
   "metadata": {},
   "outputs": [
    {
     "data": {
      "image/png": "[encoded data removed]",
      "text/plain": [
       "<Figure size 640x480 with 1 Axes>"
      ]
     },
     "metadata": {},
     "output_type": "display_data"
    }
   ],
   "source": [
    "sns.barplot(df[\"Cancer_Type\"].value_counts()/1000, orient = \"h\")\n",
    "plt.xlabel(\"Number of Cases (in 1000s)\")\n",
    "plt.ylabel(\"Cancer Type\")\n",
    "plt.title(\"Cancer Type Distribution (per 1000 cases)\");"
   ]
  },
  {
   "cell_type": "markdown",
   "id": "1baa27fc",
   "metadata": {},
   "source": [
    "3. Target_Severity_Score Distribution"
   ]
  },
  {
   "cell_type": "code",
   "execution_count": 9,
   "id": "c9b6516f",
   "metadata": {},
   "outputs": [
    {
     "data": {
      "application/vnd.microsoft.datawrangler.viewer.v0+json": {
       "columns": [
        {
         "name": "index",
         "rawType": "object",
         "type": "string"
        },
        {
         "name": "Target_Severity_Score",
         "rawType": "float64",
         "type": "float"
        }
       ],
       "ref": "71d6b44e-16c5-49d9-ba8c-7e549b36ae4d",
       "rows": [
        [
         "count",
         "50000.0"
        ],
        [
         "mean",
         "4.9512073999999995"
        ],
        [
         "std",
         "1.1996767800840247"
        ],
        [
         "min",
         "0.9"
        ],
        [
         "25%",
         "4.12"
        ],
        [
         "50%",
         "4.95"
        ],
        [
         "75%",
         "5.78"
        ],
        [
         "max",
         "9.16"
        ]
       ],
       "shape": {
        "columns": 1,
        "rows": 8
       }
      },
      "text/plain": [
       "count    50000.000000\n",
       "mean         4.951207\n",
       "std          1.199677\n",
       "min          0.900000\n",
       "25%          4.120000\n",
       "50%          4.950000\n",
       "75%          5.780000\n",
       "max          9.160000\n",
       "Name: Target_Severity_Score, dtype: float64"
      ]
     },
     "execution_count": 9,
     "metadata": {},
     "output_type": "execute_result"
    }
   ],
   "source": [
    "df[\"Target_Severity_Score\"].describe()"
   ]
  },
  {
   "cell_type": "code",
   "execution_count": 10,
   "id": "85967c57",
   "metadata": {},
   "outputs": [
    {
     "data": {
      "image/png": "[encoded data removed]",
      "text/plain": [
       "<Figure size 640x480 with 1 Axes>"
      ]
     },
     "metadata": {},
     "output_type": "display_data"
    }
   ],
   "source": [
    "sns.histplot(df[\"Target_Severity_Score\"], bins = 10, kde = True)\n",
    "plt.xlabel(\"Target Severity Score\")\n",
    "plt.ylabel(\"Frequency\")\n",
    "plt.title(\"Target Severity Score Distribution\");"
   ]
  },
  {
   "cell_type": "markdown",
   "id": "7871e37e",
   "metadata": {},
   "source": [
    "4. Target Severity Score Over Years (2015 - 2024)"
   ]
  },
  {
   "cell_type": "code",
   "execution_count": 11,
   "id": "0ed30fe5",
   "metadata": {},
   "outputs": [
    {
     "data": {
      "application/vnd.microsoft.datawrangler.viewer.v0+json": {
       "columns": [
        {
         "name": "Year",
         "rawType": "int64",
         "type": "integer"
        },
        {
         "name": "Target_Severity_Score",
         "rawType": "float64",
         "type": "float"
        }
       ],
       "ref": "44f60e8e-678b-4bb4-affc-4b21373ca754",
       "rows": [
        [
         "2015",
         "4.95"
        ],
        [
         "2016",
         "4.93"
        ],
        [
         "2017",
         "4.97"
        ],
        [
         "2018",
         "4.96"
        ],
        [
         "2019",
         "4.95"
        ],
        [
         "2020",
         "4.95"
        ],
        [
         "2021",
         "4.93"
        ],
        [
         "2022",
         "4.96"
        ],
        [
         "2023",
         "4.96"
        ],
        [
         "2024",
         "4.96"
        ]
       ],
       "shape": {
        "columns": 1,
        "rows": 10
       }
      },
      "text/plain": [
       "Year\n",
       "2015    4.95\n",
       "2016    4.93\n",
       "2017    4.97\n",
       "2018    4.96\n",
       "2019    4.95\n",
       "2020    4.95\n",
       "2021    4.93\n",
       "2022    4.96\n",
       "2023    4.96\n",
       "2024    4.96\n",
       "Name: Target_Severity_Score, dtype: float64"
      ]
     },
     "execution_count": 11,
     "metadata": {},
     "output_type": "execute_result"
    }
   ],
   "source": [
    "df.groupby(\"Year\")[\"Target_Severity_Score\"].mean().round(2)"
   ]
  },
  {
   "cell_type": "code",
   "execution_count": 12,
   "id": "1a0ca4bb",
   "metadata": {},
   "outputs": [
    {
     "data": {
      "image/png": "[encoded data removed]",
      "text/plain": [
       "<Figure size 640x480 with 1 Axes>"
      ]
     },
     "metadata": {},
     "output_type": "display_data"
    }
   ],
   "source": [
    "sns.lineplot(df.groupby(\"Year\")[\"Target_Severity_Score\"].mean().round(2))\n",
    "plt.xlabel(\"Year\")\n",
    "plt.ylabel(\"Mean Target Severity Score\")\n",
    "plt.title(\"Mean Target Severity Score Over Years\");"
   ]
  },
  {
   "cell_type": "markdown",
   "id": "48d2da17",
   "metadata": {},
   "source": [
    "#### Bivariate Analysis"
   ]
  },
  {
   "cell_type": "code",
   "execution_count": 13,
   "id": "b887fb1c",
   "metadata": {},
   "outputs": [
    {
     "data": {
      "application/vnd.microsoft.datawrangler.viewer.v0+json": {
       "columns": [
        {
         "name": "index",
         "rawType": "int64",
         "type": "integer"
        },
        {
         "name": "Age",
         "rawType": "int64",
         "type": "integer"
        },
        {
         "name": "Gender",
         "rawType": "object",
         "type": "string"
        },
        {
         "name": "Country_Region",
         "rawType": "object",
         "type": "string"
        },
        {
         "name": "Year",
         "rawType": "int64",
         "type": "integer"
        },
        {
         "name": "Genetic_Risk",
         "rawType": "float64",
         "type": "float"
        },
        {
         "name": "Air_Pollution",
         "rawType": "float64",
         "type": "float"
        },
        {
         "name": "Alcohol_Use",
         "rawType": "float64",
         "type": "float"
        },
        {
         "name": "Smoking",
         "rawType": "float64",
         "type": "float"
        },
        {
         "name": "Obesity_Level",
         "rawType": "float64",
         "type": "float"
        },
        {
         "name": "Cancer_Type",
         "rawType": "object",
         "type": "string"
        },
        {
         "name": "Cancer_Stage",
         "rawType": "object",
         "type": "string"
        },
        {
         "name": "Treatment_Cost_USD",
         "rawType": "float64",
         "type": "float"
        },
        {
         "name": "Survival_Years",
         "rawType": "float64",
         "type": "float"
        },
        {
         "name": "Target_Severity_Score",
         "rawType": "float64",
         "type": "float"
        }
       ],
       "ref": "554d7516-a6b5-45ed-8470-6444cc55b427",
       "rows": [
        [
         "0",
         "71",
         "Male",
         "UK",
         "2021",
         "6.4",
         "2.8",
         "9.5",
         "0.9",
         "8.7",
         "Lung",
         "Stage III",
         "62913.44",
         "5.9",
         "4.92"
        ],
        [
         "1",
         "34",
         "Male",
         "China",
         "2021",
         "1.3",
         "4.5",
         "3.7",
         "3.9",
         "6.3",
         "Leukemia",
         "Stage 0",
         "12573.41",
         "4.7",
         "4.65"
        ],
        [
         "2",
         "80",
         "Male",
         "Pakistan",
         "2023",
         "7.4",
         "7.9",
         "2.4",
         "4.7",
         "0.1",
         "Breast",
         "Stage II",
         "6984.33",
         "7.1",
         "5.84"
        ],
        [
         "3",
         "40",
         "Male",
         "UK",
         "2015",
         "1.7",
         "2.9",
         "4.8",
         "3.5",
         "2.7",
         "Colon",
         "Stage I",
         "67446.25",
         "1.6",
         "3.12"
        ],
        [
         "4",
         "43",
         "Female",
         "Brazil",
         "2017",
         "5.1",
         "2.8",
         "2.3",
         "6.7",
         "0.5",
         "Skin",
         "Stage III",
         "77977.12",
         "2.9",
         "3.62"
        ]
       ],
       "shape": {
        "columns": 14,
        "rows": 5
       }
      },
      "text/html": [
       "<div>\n",
       "<style scoped>\n",
       "    .dataframe tbody tr th:only-of-type {\n",
       "        vertical-align: middle;\n",
       "    }\n",
       "\n",
       "    .dataframe tbody tr th {\n",
       "        vertical-align: top;\n",
       "    }\n",
       "\n",
       "    .dataframe thead th {\n",
       "        text-align: right;\n",
       "    }\n",
       "</style>\n",
       "<table border=\"1\" class=\"dataframe\">\n",
       "  <thead>\n",
       "    <tr style=\"text-align: right;\">\n",
       "      <th></th>\n",
       "      <th>Age</th>\n",
       "      <th>Gender</th>\n",
       "      <th>Country_Region</th>\n",
       "      <th>Year</th>\n",
       "      <th>Genetic_Risk</th>\n",
       "      <th>Air_Pollution</th>\n",
       "      <th>Alcohol_Use</th>\n",
       "      <th>Smoking</th>\n",
       "      <th>Obesity_Level</th>\n",
       "      <th>Cancer_Type</th>\n",
       "      <th>Cancer_Stage</th>\n",
       "      <th>Treatment_Cost_USD</th>\n",
       "      <th>Survival_Years</th>\n",
       "      <th>Target_Severity_Score</th>\n",
       "    </tr>\n",
       "  </thead>\n",
       "  <tbody>\n",
       "    <tr>\n",
       "      <th>0</th>\n",
       "      <td>71</td>\n",
       "      <td>Male</td>\n",
       "      <td>UK</td>\n",
       "      <td>2021</td>\n",
       "      <td>6.4</td>\n",
       "      <td>2.8</td>\n",
       "      <td>9.5</td>\n",
       "      <td>0.9</td>\n",
       "      <td>8.7</td>\n",
       "      <td>Lung</td>\n",
       "      <td>Stage III</td>\n",
       "      <td>62913.44</td>\n",
       "      <td>5.9</td>\n",
       "      <td>4.92</td>\n",
       "    </tr>\n",
       "    <tr>\n",
       "      <th>1</th>\n",
       "      <td>34</td>\n",
       "      <td>Male</td>\n",
       "      <td>China</td>\n",
       "      <td>2021</td>\n",
       "      <td>1.3</td>\n",
       "      <td>4.5</td>\n",
       "      <td>3.7</td>\n",
       "      <td>3.9</td>\n",
       "      <td>6.3</td>\n",
       "      <td>Leukemia</td>\n",
       "      <td>Stage 0</td>\n",
       "      <td>12573.41</td>\n",
       "      <td>4.7</td>\n",
       "      <td>4.65</td>\n",
       "    </tr>\n",
       "    <tr>\n",
       "      <th>2</th>\n",
       "      <td>80</td>\n",
       "      <td>Male</td>\n",
       "      <td>Pakistan</td>\n",
       "      <td>2023</td>\n",
       "      <td>7.4</td>\n",
       "      <td>7.9</td>\n",
       "      <td>2.4</td>\n",
       "      <td>4.7</td>\n",
       "      <td>0.1</td>\n",
       "      <td>Breast</td>\n",
       "      <td>Stage II</td>\n",
       "      <td>6984.33</td>\n",
       "      <td>7.1</td>\n",
       "      <td>5.84</td>\n",
       "    </tr>\n",
       "    <tr>\n",
       "      <th>3</th>\n",
       "      <td>40</td>\n",
       "      <td>Male</td>\n",
       "      <td>UK</td>\n",
       "      <td>2015</td>\n",
       "      <td>1.7</td>\n",
       "      <td>2.9</td>\n",
       "      <td>4.8</td>\n",
       "      <td>3.5</td>\n",
       "      <td>2.7</td>\n",
       "      <td>Colon</td>\n",
       "      <td>Stage I</td>\n",
       "      <td>67446.25</td>\n",
       "      <td>1.6</td>\n",
       "      <td>3.12</td>\n",
       "    </tr>\n",
       "    <tr>\n",
       "      <th>4</th>\n",
       "      <td>43</td>\n",
       "      <td>Female</td>\n",
       "      <td>Brazil</td>\n",
       "      <td>2017</td>\n",
       "      <td>5.1</td>\n",
       "      <td>2.8</td>\n",
       "      <td>2.3</td>\n",
       "      <td>6.7</td>\n",
       "      <td>0.5</td>\n",
       "      <td>Skin</td>\n",
       "      <td>Stage III</td>\n",
       "      <td>77977.12</td>\n",
       "      <td>2.9</td>\n",
       "      <td>3.62</td>\n",
       "    </tr>\n",
       "  </tbody>\n",
       "</table>\n",
       "</div>"
      ],
      "text/plain": [
       "   Age  Gender Country_Region  Year  Genetic_Risk  Air_Pollution  Alcohol_Use  \\\n",
       "0   71    Male             UK  2021           6.4            2.8          9.5   \n",
       "1   34    Male          China  2021           1.3            4.5          3.7   \n",
       "2   80    Male       Pakistan  2023           7.4            7.9          2.4   \n",
       "3   40    Male             UK  2015           1.7            2.9          4.8   \n",
       "4   43  Female         Brazil  2017           5.1            2.8          2.3   \n",
       "\n",
       "   Smoking  Obesity_Level Cancer_Type Cancer_Stage  Treatment_Cost_USD  \\\n",
       "0      0.9            8.7        Lung    Stage III            62913.44   \n",
       "1      3.9            6.3    Leukemia      Stage 0            12573.41   \n",
       "2      4.7            0.1      Breast     Stage II             6984.33   \n",
       "3      3.5            2.7       Colon      Stage I            67446.25   \n",
       "4      6.7            0.5        Skin    Stage III            77977.12   \n",
       "\n",
       "   Survival_Years  Target_Severity_Score  \n",
       "0             5.9                   4.92  \n",
       "1             4.7                   4.65  \n",
       "2             7.1                   5.84  \n",
       "3             1.6                   3.12  \n",
       "4             2.9                   3.62  "
      ]
     },
     "execution_count": 13,
     "metadata": {},
     "output_type": "execute_result"
    }
   ],
   "source": [
    "df.head()"
   ]
  },
  {
   "cell_type": "code",
   "execution_count": 14,
   "id": "15eb5003",
   "metadata": {},
   "outputs": [
    {
     "data": {
      "application/vnd.microsoft.datawrangler.viewer.v0+json": {
       "columns": [
        {
         "name": "index",
         "rawType": "object",
         "type": "string"
        },
        {
         "name": "Smoking",
         "rawType": "float64",
         "type": "float"
        }
       ],
       "ref": "df93ed73-b3ff-4a52-afaf-fbaf512e99da",
       "rows": [
        [
         "count",
         "50000.0"
        ],
        [
         "mean",
         "4.989826000000001"
        ],
        [
         "std",
         "2.881578726955624"
        ],
        [
         "min",
         "0.0"
        ],
        [
         "25%",
         "2.5"
        ],
        [
         "50%",
         "5.0"
        ],
        [
         "75%",
         "7.5"
        ],
        [
         "max",
         "10.0"
        ]
       ],
       "shape": {
        "columns": 1,
        "rows": 8
       }
      },
      "text/plain": [
       "count    50000.000000\n",
       "mean         4.989826\n",
       "std          2.881579\n",
       "min          0.000000\n",
       "25%          2.500000\n",
       "50%          5.000000\n",
       "75%          7.500000\n",
       "max         10.000000\n",
       "Name: Smoking, dtype: float64"
      ]
     },
     "execution_count": 14,
     "metadata": {},
     "output_type": "execute_result"
    }
   ],
   "source": [
    "df[\"Smoking\"].describe()"
   ]
  },
  {
   "cell_type": "code",
   "execution_count": 15,
   "metadata": {},
   "outputs": [
    {
     "data": {
      "application/vnd.microsoft.datawrangler.viewer.v0+json": {
       "columns": [
        {
         "name": "index",
         "rawType": "object",
         "type": "string"
        },
        {
         "name": "Age",
         "rawType": "float64",
         "type": "float"
        },
        {
         "name": "Year",
         "rawType": "float64",
         "type": "float"
        },
        {
         "name": "Genetic_Risk",
         "rawType": "float64",
         "type": "float"
        },
        {
         "name": "Air_Pollution",
         "rawType": "float64",
         "type": "float"
        },
        {
         "name": "Alcohol_Use",
         "rawType": "float64",
         "type": "float"
        },
        {
         "name": "Smoking",
         "rawType": "float64",
         "type": "float"
        },
        {
         "name": "Obesity_Level",
         "rawType": "float64",
         "type": "float"
        },
        {
         "name": "Treatment_Cost_USD",
         "rawType": "float64",
         "type": "float"
        },
        {
         "name": "Survival_Years",
         "rawType": "float64",
         "type": "float"
        },
        {
         "name": "Target_Severity_Score",
         "rawType": "float64",
         "type": "float"
        }
       ],
       "ref": "4e9bfaae-08e6-4e12-849f-e97e9f1f1cef",
       "rows": [
        [
         "Age",
         "1.0",
         "-0.002505437807875271",
         "0.002229057075096838",
         "0.0011013498206172325",
         "-0.004129641358171127",
         "0.0017342421744231428",
         "-0.0027062548749694822",
         "0.003591392704425127",
         "-0.0001474805625475328",
         "-0.0014813327250107124"
        ],
        [
         "Year",
         "-0.002505437807875271",
         "1.0",
         "0.009942219288309948",
         "0.0006487057206075164",
         "0.001933954874632108",
         "-0.006208565744151448",
         "-0.002441224472507053",
         "6.0561324250573005e-05",
         "1.7982192214833793e-05",
         "0.0021088168011409608"
        ],
        [
         "Genetic_Risk",
         "0.002229057075096838",
         "0.009942219288309948",
         "1.0",
         "-0.004491800715097884",
         "-0.0025580204354463797",
         "-0.003718145966702547",
         "0.0035224462303035543",
         "-0.0023654235441408827",
         "0.0017079568541277562",
         "0.47870037190310166"
        ],
        [
         "Air_Pollution",
         "0.0011013498206172325",
         "0.0006487057206075164",
         "-0.004491800715097884",
         "1.0",
         "0.0035105349984702505",
         "0.0035493307363273696",
         "0.00650749909243905",
         "-0.007566027022936012",
         "0.0008930732636496023",
         "0.36696280379759544"
        ],
        [
         "Alcohol_Use",
         "-0.004129641358171127",
         "0.001933954874632108",
         "-0.0025580204354463797",
         "0.0035105349984702505",
         "1.0",
         "-0.002938366903124918",
         "0.007424559674560308",
         "-0.003607762963360051",
         "-0.0005274633033604987",
         "0.3632499018128941"
        ],
        [
         "Smoking",
         "0.0017342421744231428",
         "-0.006208565744151448",
         "-0.003718145966702547",
         "0.0035493307363273696",
         "-0.002938366903124918",
         "1.0",
         "0.005827802955636075",
         "-0.009168651824386646",
         "0.0013710407930159715",
         "0.4844198313788514"
        ],
        [
         "Obesity_Level",
         "-0.0027062548749694822",
         "-0.002441224472507053",
         "0.0035224462303035543",
         "0.00650749909243905",
         "0.007424559674560308",
         "0.005827802955636075",
         "1.0",
         "-0.0012510919268197364",
         "0.009771093874775061",
         "0.25136611327834657"
        ],
        [
         "Treatment_Cost_USD",
         "0.003591392704425127",
         "6.0561324250573005e-05",
         "-0.0023654235441408827",
         "-0.007566027022936012",
         "-0.003607762963360051",
         "-0.009168651824386646",
         "-0.0012510919268197364",
         "1.0",
         "-0.0004294054283022085",
         "-0.46605796256087295"
        ],
        [
         "Survival_Years",
         "-0.0001474805625475328",
         "1.7982192214833793e-05",
         "0.0017079568541277562",
         "0.0008930732636496023",
         "-0.0005274633033604987",
         "0.0013710407930159715",
         "0.009771093874775061",
         "-0.0004294054283022085",
         "1.0",
         "0.004161136673792131"
        ],
        [
         "Target_Severity_Score",
         "-0.0014813327250107124",
         "0.0021088168011409608",
         "0.47870037190310166",
         "0.36696280379759544",
         "0.3632499018128941",
         "0.4844198313788514",
         "0.25136611327834657",
         "-0.46605796256087295",
         "0.004161136673792131",
         "1.0"
        ]
       ],
       "shape": {
        "columns": 10,
        "rows": 10
       }
      },
      "text/html": [
       "<div>\n",
       "<style scoped>\n",
       "    .dataframe tbody tr th:only-of-type {\n",
       "        vertical-align: middle;\n",
       "    }\n",
       "\n",
       "    .dataframe tbody tr th {\n",
       "        vertical-align: top;\n",
       "    }\n",
       "\n",
       "    .dataframe thead th {\n",
       "        text-align: right;\n",
       "    }\n",
       "</style>\n",
       "<table border=\"1\" class=\"dataframe\">\n",
       "  <thead>\n",
       "    <tr style=\"text-align: right;\">\n",
       "      <th></th>\n",
       "      <th>Age</th>\n",
       "      <th>Year</th>\n",
       "      <th>Genetic_Risk</th>\n",
       "      <th>Air_Pollution</th>\n",
       "      <th>Alcohol_Use</th>\n",
       "      <th>Smoking</th>\n",
       "      <th>Obesity_Level</th>\n",
       "      <th>Treatment_Cost_USD</th>\n",
       "      <th>Survival_Years</th>\n",
       "      <th>Target_Severity_Score</th>\n",
       "    </tr>\n",
       "  </thead>\n",
       "  <tbody>\n",
       "    <tr>\n",
       "      <th>Age</th>\n",
       "      <td>1.000000</td>\n",
       "      <td>-0.002505</td>\n",
       "      <td>0.002229</td>\n",
       "      <td>0.001101</td>\n",
       "      <td>-0.004130</td>\n",
       "      <td>0.001734</td>\n",
       "      <td>-0.002706</td>\n",
       "      <td>0.003591</td>\n",
       "      <td>-0.000147</td>\n",
       "      <td>-0.001481</td>\n",
       "    </tr>\n",
       "    <tr>\n",
       "      <th>Year</th>\n",
       "      <td>-0.002505</td>\n",
       "      <td>1.000000</td>\n",
       "      <td>0.009942</td>\n",
       "      <td>0.000649</td>\n",
       "      <td>0.001934</td>\n",
       "      <td>-0.006209</td>\n",
       "      <td>-0.002441</td>\n",
       "      <td>0.000061</td>\n",
       "      <td>0.000018</td>\n",
       "      <td>0.002109</td>\n",
       "    </tr>\n",
       "    <tr>\n",
       "      <th>Genetic_Risk</th>\n",
       "      <td>0.002229</td>\n",
       "      <td>0.009942</td>\n",
       "      <td>1.000000</td>\n",
       "      <td>-0.004492</td>\n",
       "      <td>-0.002558</td>\n",
       "      <td>-0.003718</td>\n",
       "      <td>0.003522</td>\n",
       "      <td>-0.002365</td>\n",
       "      <td>0.001708</td>\n",
       "      <td>0.478700</td>\n",
       "    </tr>\n",
       "    <tr>\n",
       "      <th>Air_Pollution</th>\n",
       "      <td>0.001101</td>\n",
       "      <td>0.000649</td>\n",
       "      <td>-0.004492</td>\n",
       "      <td>1.000000</td>\n",
       "      <td>0.003511</td>\n",
       "      <td>0.003549</td>\n",
       "      <td>0.006507</td>\n",
       "      <td>-0.007566</td>\n",
       "      <td>0.000893</td>\n",
       "      <td>0.366963</td>\n",
       "    </tr>\n",
       "    <tr>\n",
       "      <th>Alcohol_Use</th>\n",
       "      <td>-0.004130</td>\n",
       "      <td>0.001934</td>\n",
       "      <td>-0.002558</td>\n",
       "      <td>0.003511</td>\n",
       "      <td>1.000000</td>\n",
       "      <td>-0.002938</td>\n",
       "      <td>0.007425</td>\n",
       "      <td>-0.003608</td>\n",
       "      <td>-0.000527</td>\n",
       "      <td>0.363250</td>\n",
       "    </tr>\n",
       "    <tr>\n",
       "      <th>Smoking</th>\n",
       "      <td>0.001734</td>\n",
       "      <td>-0.006209</td>\n",
       "      <td>-0.003718</td>\n",
       "      <td>0.003549</td>\n",
       "      <td>-0.002938</td>\n",
       "      <td>1.000000</td>\n",
       "      <td>0.005828</td>\n",
       "      <td>-0.009169</td>\n",
       "      <td>0.001371</td>\n",
       "      <td>0.484420</td>\n",
       "    </tr>\n",
       "    <tr>\n",
       "      <th>Obesity_Level</th>\n",
       "      <td>-0.002706</td>\n",
       "      <td>-0.002441</td>\n",
       "      <td>0.003522</td>\n",
       "      <td>0.006507</td>\n",
       "      <td>0.007425</td>\n",
       "      <td>0.005828</td>\n",
       "      <td>1.000000</td>\n",
       "      <td>-0.001251</td>\n",
       "      <td>0.009771</td>\n",
       "      <td>0.251366</td>\n",
       "    </tr>\n",
       "    <tr>\n",
       "      <th>Treatment_Cost_USD</th>\n",
       "      <td>0.003591</td>\n",
       "      <td>0.000061</td>\n",
       "      <td>-0.002365</td>\n",
       "      <td>-0.007566</td>\n",
       "      <td>-0.003608</td>\n",
       "      <td>-0.009169</td>\n",
       "      <td>-0.001251</td>\n",
       "      <td>1.000000</td>\n",
       "      <td>-0.000429</td>\n",
       "      <td>-0.466058</td>\n",
       "    </tr>\n",
       "    <tr>\n",
       "      <th>Survival_Years</th>\n",
       "      <td>-0.000147</td>\n",
       "      <td>0.000018</td>\n",
       "      <td>0.001708</td>\n",
       "      <td>0.000893</td>\n",
       "      <td>-0.000527</td>\n",
       "      <td>0.001371</td>\n",
       "      <td>0.009771</td>\n",
       "      <td>-0.000429</td>\n",
       "      <td>1.000000</td>\n",
       "      <td>0.004161</td>\n",
       "    </tr>\n",
       "    <tr>\n",
       "      <th>Target_Severity_Score</th>\n",
       "      <td>-0.001481</td>\n",
       "      <td>0.002109</td>\n",
       "      <td>0.478700</td>\n",
       "      <td>0.366963</td>\n",
       "      <td>0.363250</td>\n",
       "      <td>0.484420</td>\n",
       "      <td>0.251366</td>\n",
       "      <td>-0.466058</td>\n",
       "      <td>0.004161</td>\n",
       "      <td>1.000000</td>\n",
       "    </tr>\n",
       "  </tbody>\n",
       "</table>\n",
       "</div>"
      ],
      "text/plain": [
       "                            Age      Year  Genetic_Risk  Air_Pollution  \\\n",
       "Age                    1.000000 -0.002505      0.002229       0.001101   \n",
       "Year                  -0.002505  1.000000      0.009942       0.000649   \n",
       "Genetic_Risk           0.002229  0.009942      1.000000      -0.004492   \n",
       "Air_Pollution          0.001101  0.000649     -0.004492       1.000000   \n",
       "Alcohol_Use           -0.004130  0.001934     -0.002558       0.003511   \n",
       "Smoking                0.001734 -0.006209     -0.003718       0.003549   \n",
       "Obesity_Level         -0.002706 -0.002441      0.003522       0.006507   \n",
       "Treatment_Cost_USD     0.003591  0.000061     -0.002365      -0.007566   \n",
       "Survival_Years        -0.000147  0.000018      0.001708       0.000893   \n",
       "Target_Severity_Score -0.001481  0.002109      0.478700       0.366963   \n",
       "\n",
       "                       Alcohol_Use   Smoking  Obesity_Level  \\\n",
       "Age                      -0.004130  0.001734      -0.002706   \n",
       "Year                      0.001934 -0.006209      -0.002441   \n",
       "Genetic_Risk             -0.002558 -0.003718       0.003522   \n",
       "Air_Pollution             0.003511  0.003549       0.006507   \n",
       "Alcohol_Use               1.000000 -0.002938       0.007425   \n",
       "Smoking                  -0.002938  1.000000       0.005828   \n",
       "Obesity_Level             0.007425  0.005828       1.000000   \n",
       "Treatment_Cost_USD       -0.003608 -0.009169      -0.001251   \n",
       "Survival_Years           -0.000527  0.001371       0.009771   \n",
       "Target_Severity_Score     0.363250  0.484420       0.251366   \n",
       "\n",
       "                       Treatment_Cost_USD  Survival_Years  \\\n",
       "Age                              0.003591       -0.000147   \n",
       "Year                             0.000061        0.000018   \n",
       "Genetic_Risk                    -0.002365        0.001708   \n",
       "Air_Pollution                   -0.007566        0.000893   \n",
       "Alcohol_Use                     -0.003608       -0.000527   \n",
       "Smoking                         -0.009169        0.001371   \n",
       "Obesity_Level                   -0.001251        0.009771   \n",
       "Treatment_Cost_USD               1.000000       -0.000429   \n",
       "Survival_Years                  -0.000429        1.000000   \n",
       "Target_Severity_Score           -0.466058        0.004161   \n",
       "\n",
       "                       Target_Severity_Score  \n",
       "Age                                -0.001481  \n",
       "Year                                0.002109  \n",
       "Genetic_Risk                        0.478700  \n",
       "Air_Pollution                       0.366963  \n",
       "Alcohol_Use                         0.363250  \n",
       "Smoking                             0.484420  \n",
       "Obesity_Level                       0.251366  \n",
       "Treatment_Cost_USD                 -0.466058  \n",
       "Survival_Years                      0.004161  \n",
       "Target_Severity_Score               1.000000  "
      ]
     },
     "execution_count": 15,
     "metadata": {},
     "output_type": "execute_result"
    }
   ],
   "source": [
    "correlation = df.select_dtypes(include=['number'])\n",
    "correlation = correlation.corr()\n",
    "correlation"
   ]
  },
  {
   "cell_type": "code",
   "execution_count": 16,
   "id": "31e9f411",
   "metadata": {},
   "outputs": [
    {
     "data": {
      "image/png": "[encoded data removed]",
      "text/plain": [
       "<Figure size 640x480 with 2 Axes>"
      ]
     },
     "metadata": {},
     "output_type": "display_data"
    }
   ],
   "source": [
    "sns.heatmap(correlation, annot=True, fmt=\".2f\", cmap=\"coolwarm\", cbar=True)\n",
    "plt.title(\"Correlation Heatmap\")\n",
    "plt.show();"
   ]
  },
  {
   "cell_type": "code",
   "execution_count": 17,
   "id": "94df0ec5",
   "metadata": {},
   "outputs": [
    {
     "data": {
      "application/vnd.microsoft.datawrangler.viewer.v0+json": {
       "columns": [
        {
         "name": "index",
         "rawType": "int64",
         "type": "integer"
        },
        {
         "name": "Age",
         "rawType": "int64",
         "type": "integer"
        },
        {
         "name": "Gender",
         "rawType": "object",
         "type": "string"
        },
        {
         "name": "Country_Region",
         "rawType": "object",
         "type": "string"
        },
        {
         "name": "Year",
         "rawType": "int64",
         "type": "integer"
        },
        {
         "name": "Genetic_Risk",
         "rawType": "float64",
         "type": "float"
        },
        {
         "name": "Air_Pollution",
         "rawType": "float64",
         "type": "float"
        },
        {
         "name": "Alcohol_Use",
         "rawType": "float64",
         "type": "float"
        },
        {
         "name": "Smoking",
         "rawType": "float64",
         "type": "float"
        },
        {
         "name": "Obesity_Level",
         "rawType": "float64",
         "type": "float"
        },
        {
         "name": "Cancer_Type",
         "rawType": "object",
         "type": "string"
        },
        {
         "name": "Cancer_Stage",
         "rawType": "object",
         "type": "string"
        },
        {
         "name": "Treatment_Cost_USD",
         "rawType": "float64",
         "type": "float"
        },
        {
         "name": "Survival_Years",
         "rawType": "float64",
         "type": "float"
        },
        {
         "name": "Target_Severity_Score",
         "rawType": "float64",
         "type": "float"
        }
       ],
       "ref": "5b550761-5c61-4ad1-82f6-555acd6f0c61",
       "rows": [
        [
         "0",
         "71",
         "Male",
         "UK",
         "2021",
         "6.4",
         "2.8",
         "9.5",
         "0.9",
         "8.7",
         "Lung",
         "Stage III",
         "62913.44",
         "5.9",
         "4.92"
        ],
        [
         "1",
         "34",
         "Male",
         "China",
         "2021",
         "1.3",
         "4.5",
         "3.7",
         "3.9",
         "6.3",
         "Leukemia",
         "Stage 0",
         "12573.41",
         "4.7",
         "4.65"
        ],
        [
         "2",
         "80",
         "Male",
         "Pakistan",
         "2023",
         "7.4",
         "7.9",
         "2.4",
         "4.7",
         "0.1",
         "Breast",
         "Stage II",
         "6984.33",
         "7.1",
         "5.84"
        ],
        [
         "3",
         "40",
         "Male",
         "UK",
         "2015",
         "1.7",
         "2.9",
         "4.8",
         "3.5",
         "2.7",
         "Colon",
         "Stage I",
         "67446.25",
         "1.6",
         "3.12"
        ],
        [
         "4",
         "43",
         "Female",
         "Brazil",
         "2017",
         "5.1",
         "2.8",
         "2.3",
         "6.7",
         "0.5",
         "Skin",
         "Stage III",
         "77977.12",
         "2.9",
         "3.62"
        ]
       ],
       "shape": {
        "columns": 14,
        "rows": 5
       }
      },
      "text/html": [
       "<div>\n",
       "<style scoped>\n",
       "    .dataframe tbody tr th:only-of-type {\n",
       "        vertical-align: middle;\n",
       "    }\n",
       "\n",
       "    .dataframe tbody tr th {\n",
       "        vertical-align: top;\n",
       "    }\n",
       "\n",
       "    .dataframe thead th {\n",
       "        text-align: right;\n",
       "    }\n",
       "</style>\n",
       "<table border=\"1\" class=\"dataframe\">\n",
       "  <thead>\n",
       "    <tr style=\"text-align: right;\">\n",
       "      <th></th>\n",
       "      <th>Age</th>\n",
       "      <th>Gender</th>\n",
       "      <th>Country_Region</th>\n",
       "      <th>Year</th>\n",
       "      <th>Genetic_Risk</th>\n",
       "      <th>Air_Pollution</th>\n",
       "      <th>Alcohol_Use</th>\n",
       "      <th>Smoking</th>\n",
       "      <th>Obesity_Level</th>\n",
       "      <th>Cancer_Type</th>\n",
       "      <th>Cancer_Stage</th>\n",
       "      <th>Treatment_Cost_USD</th>\n",
       "      <th>Survival_Years</th>\n",
       "      <th>Target_Severity_Score</th>\n",
       "    </tr>\n",
       "  </thead>\n",
       "  <tbody>\n",
       "    <tr>\n",
       "      <th>0</th>\n",
       "      <td>71</td>\n",
       "      <td>Male</td>\n",
       "      <td>UK</td>\n",
       "      <td>2021</td>\n",
       "      <td>6.4</td>\n",
       "      <td>2.8</td>\n",
       "      <td>9.5</td>\n",
       "      <td>0.9</td>\n",
       "      <td>8.7</td>\n",
       "      <td>Lung</td>\n",
       "      <td>Stage III</td>\n",
       "      <td>62913.44</td>\n",
       "      <td>5.9</td>\n",
       "      <td>4.92</td>\n",
       "    </tr>\n",
       "    <tr>\n",
       "      <th>1</th>\n",
       "      <td>34</td>\n",
       "      <td>Male</td>\n",
       "      <td>China</td>\n",
       "      <td>2021</td>\n",
       "      <td>1.3</td>\n",
       "      <td>4.5</td>\n",
       "      <td>3.7</td>\n",
       "      <td>3.9</td>\n",
       "      <td>6.3</td>\n",
       "      <td>Leukemia</td>\n",
       "      <td>Stage 0</td>\n",
       "      <td>12573.41</td>\n",
       "      <td>4.7</td>\n",
       "      <td>4.65</td>\n",
       "    </tr>\n",
       "    <tr>\n",
       "      <th>2</th>\n",
       "      <td>80</td>\n",
       "      <td>Male</td>\n",
       "      <td>Pakistan</td>\n",
       "      <td>2023</td>\n",
       "      <td>7.4</td>\n",
       "      <td>7.9</td>\n",
       "      <td>2.4</td>\n",
       "      <td>4.7</td>\n",
       "      <td>0.1</td>\n",
       "      <td>Breast</td>\n",
       "      <td>Stage II</td>\n",
       "      <td>6984.33</td>\n",
       "      <td>7.1</td>\n",
       "      <td>5.84</td>\n",
       "    </tr>\n",
       "    <tr>\n",
       "      <th>3</th>\n",
       "      <td>40</td>\n",
       "      <td>Male</td>\n",
       "      <td>UK</td>\n",
       "      <td>2015</td>\n",
       "      <td>1.7</td>\n",
       "      <td>2.9</td>\n",
       "      <td>4.8</td>\n",
       "      <td>3.5</td>\n",
       "      <td>2.7</td>\n",
       "      <td>Colon</td>\n",
       "      <td>Stage I</td>\n",
       "      <td>67446.25</td>\n",
       "      <td>1.6</td>\n",
       "      <td>3.12</td>\n",
       "    </tr>\n",
       "    <tr>\n",
       "      <th>4</th>\n",
       "      <td>43</td>\n",
       "      <td>Female</td>\n",
       "      <td>Brazil</td>\n",
       "      <td>2017</td>\n",
       "      <td>5.1</td>\n",
       "      <td>2.8</td>\n",
       "      <td>2.3</td>\n",
       "      <td>6.7</td>\n",
       "      <td>0.5</td>\n",
       "      <td>Skin</td>\n",
       "      <td>Stage III</td>\n",
       "      <td>77977.12</td>\n",
       "      <td>2.9</td>\n",
       "      <td>3.62</td>\n",
       "    </tr>\n",
       "  </tbody>\n",
       "</table>\n",
       "</div>"
      ],
      "text/plain": [
       "   Age  Gender Country_Region  Year  Genetic_Risk  Air_Pollution  Alcohol_Use  \\\n",
       "0   71    Male             UK  2021           6.4            2.8          9.5   \n",
       "1   34    Male          China  2021           1.3            4.5          3.7   \n",
       "2   80    Male       Pakistan  2023           7.4            7.9          2.4   \n",
       "3   40    Male             UK  2015           1.7            2.9          4.8   \n",
       "4   43  Female         Brazil  2017           5.1            2.8          2.3   \n",
       "\n",
       "   Smoking  Obesity_Level Cancer_Type Cancer_Stage  Treatment_Cost_USD  \\\n",
       "0      0.9            8.7        Lung    Stage III            62913.44   \n",
       "1      3.9            6.3    Leukemia      Stage 0            12573.41   \n",
       "2      4.7            0.1      Breast     Stage II             6984.33   \n",
       "3      3.5            2.7       Colon      Stage I            67446.25   \n",
       "4      6.7            0.5        Skin    Stage III            77977.12   \n",
       "\n",
       "   Survival_Years  Target_Severity_Score  \n",
       "0             5.9                   4.92  \n",
       "1             4.7                   4.65  \n",
       "2             7.1                   5.84  \n",
       "3             1.6                   3.12  \n",
       "4             2.9                   3.62  "
      ]
     },
     "execution_count": 17,
     "metadata": {},
     "output_type": "execute_result"
    }
   ],
   "source": [
    "df.head()"
   ]
  },
  {
   "cell_type": "markdown",
   "id": "4309dc34",
   "metadata": {},
   "source": [
    "#### **Feature Engineering**"
   ]
  },
  {
   "cell_type": "markdown",
   "id": "d8907eb1",
   "metadata": {},
   "source": [
    "Target_Severity_Score"
   ]
  },
  {
   "cell_type": "code",
   "execution_count": 22,
   "id": "7daf4434",
   "metadata": {},
   "outputs": [
    {
     "data": {
      "application/vnd.microsoft.datawrangler.viewer.v0+json": {
       "columns": [
        {
         "name": "index",
         "rawType": "int64",
         "type": "integer"
        },
        {
         "name": "Target_Severity_Score",
         "rawType": "float64",
         "type": "float"
        }
       ],
       "ref": "2d0cd76f-c10a-4f5a-a685-a666329f34c5",
       "rows": [
        [
         "0",
         "4.92"
        ],
        [
         "1",
         "4.65"
        ],
        [
         "2",
         "5.84"
        ],
        [
         "3",
         "3.12"
        ],
        [
         "4",
         "3.62"
        ]
       ],
       "shape": {
        "columns": 1,
        "rows": 5
       }
      },
      "text/plain": [
       "0    4.92\n",
       "1    4.65\n",
       "2    5.84\n",
       "3    3.12\n",
       "4    3.62\n",
       "Name: Target_Severity_Score, dtype: float64"
      ]
     },
     "execution_count": 22,
     "metadata": {},
     "output_type": "execute_result"
    }
   ],
   "source": [
    "df[\"Target_Severity_Score\"].head()"
   ]
  },
  {
   "cell_type": "markdown",
   "id": "5754c8ef",
   "metadata": {},
   "source": [
    "Create a new column; Severity_Score"
   ]
  },
  {
   "cell_type": "code",
   "execution_count": 23,
   "id": "c5a18de1",
   "metadata": {},
   "outputs": [],
   "source": [
    "# Round the scores to 2 decimal places\n",
    "df[\"Target_Severity_Score\"] = df[\"Target_Severity_Score\"].round(2)"
   ]
  },
  {
   "cell_type": "code",
   "execution_count": 24,
   "id": "819e47fa",
   "metadata": {},
   "outputs": [],
   "source": [
    "# Define bins and labels\n",
    "bins = [0.0, 3.3, 6.6, 10.0]\n",
    "labels = [\"Mild\", \"Moderate\", \"Severe\"]"
   ]
  },
  {
   "cell_type": "code",
   "execution_count": 25,
   "id": "17f42ea8",
   "metadata": {},
   "outputs": [],
   "source": [
    "# Create new column\n",
    "df[\"Severity_Category\"] = pd.cut(df[\"Target_Severity_Score\"], bins=bins, labels=labels, include_lowest=True)"
   ]
  },
  {
   "cell_type": "code",
   "execution_count": 26,
   "id": "8c0acd6c",
   "metadata": {},
   "outputs": [
    {
     "data": {
      "application/vnd.microsoft.datawrangler.viewer.v0+json": {
       "columns": [
        {
         "name": "Severity_Category",
         "rawType": "category",
         "type": "unknown"
        },
        {
         "name": "count",
         "rawType": "int64",
         "type": "integer"
        }
       ],
       "ref": "439632e6-c45f-47cd-abdc-29549fdcc87b",
       "rows": [
        [
         "Moderate",
         "41348"
        ],
        [
         "Mild",
         "4333"
        ],
        [
         "Severe",
         "4319"
        ]
       ],
       "shape": {
        "columns": 1,
        "rows": 3
       }
      },
      "text/plain": [
       "Severity_Category\n",
       "Moderate    41348\n",
       "Mild         4333\n",
       "Severe       4319\n",
       "Name: count, dtype: int64"
      ]
     },
     "execution_count": 26,
     "metadata": {},
     "output_type": "execute_result"
    }
   ],
   "source": [
    "df[\"Severity_Category\"].value_counts()"
   ]
  },
  {
   "cell_type": "code",
   "execution_count": 38,
   "id": "8c508b17",
   "metadata": {},
   "outputs": [
    {
     "data": {
      "image/png": "[encoded data removed]",
      "text/plain": [
       "<Figure size 640x480 with 1 Axes>"
      ]
     },
     "metadata": {},
     "output_type": "display_data"
    }
   ],
   "source": [
    "sns.barplot(df[\"Severity_Category\"].value_counts(), orient = \"h\")\n",
    "plt.xlabel(\"Severity Count\")\n",
    "plt.ylabel(\"Severrity Category\")\n",
    "plt.title(\"Severity Category Distribution\");"
   ]
  },
  {
   "cell_type": "markdown",
   "id": "2cc2f63a",
   "metadata": {},
   "source": [
    "#### Bivariate Analysis"
   ]
  },
  {
   "cell_type": "markdown",
   "id": "da89549f",
   "metadata": {},
   "source": [
    "Age vs Severity_Category"
   ]
  },
  {
   "cell_type": "code",
   "execution_count": 41,
   "id": "639cfdbe",
   "metadata": {},
   "outputs": [
    {
     "data": {
      "application/vnd.microsoft.datawrangler.viewer.v0+json": {
       "columns": [
        {
         "name": "Severity_Category",
         "rawType": "category",
         "type": "unknown"
        },
        {
         "name": "Age",
         "rawType": "float64",
         "type": "float"
        }
       ],
       "ref": "fd786d6e-68bd-485d-814e-f93a02dcfbf3",
       "rows": [
        [
         "Mild",
         "54.0"
        ],
        [
         "Moderate",
         "55.0"
        ],
        [
         "Severe",
         "54.0"
        ]
       ],
       "shape": {
        "columns": 1,
        "rows": 3
       }
      },
      "text/plain": [
       "Severity_Category\n",
       "Mild        54.0\n",
       "Moderate    55.0\n",
       "Severe      54.0\n",
       "Name: Age, dtype: float64"
      ]
     },
     "execution_count": 41,
     "metadata": {},
     "output_type": "execute_result"
    }
   ],
   "source": [
    "df.groupby(\"Severity_Category\")[\"Age\"].median().round(2)"
   ]
  },
  {
   "cell_type": "code",
   "execution_count": 47,
   "id": "0e60359e",
   "metadata": {},
   "outputs": [
    {
     "data": {
      "text/plain": [
       "Text(0, 0.5, 'Age')"
      ]
     },
     "execution_count": 47,
     "metadata": {},
     "output_type": "execute_result"
    },
    {
     "data": {
      "image/png": "[encoded data removed]",
      "text/plain": [
       "<Figure size 640x480 with 1 Axes>"
      ]
     },
     "metadata": {},
     "output_type": "display_data"
    }
   ],
   "source": [
    "sns.boxplot(x=\"Severity_Category\", y=\"Age\", data=df, palette=\"Set2\")\n",
    "plt.title(\"Age Distribution by Severity Category\")\n",
    "plt.xlabel(\"Severity Category\")\n",
    "plt.ylabel(\"Age\")"
   ]
  },
  {
   "cell_type": "markdown",
   "id": "f7dd9532",
   "metadata": {},
   "source": [
    "Does Mean Age differ significantly across Severity Categories?"
   ]
  },
  {
   "cell_type": "code",
   "execution_count": 50,
   "id": "08846a8f",
   "metadata": {},
   "outputs": [
    {
     "data": {
      "image/png": "[encoded data removed]",
      "text/plain": [
       "<Figure size 640x480 with 1 Axes>"
      ]
     },
     "metadata": {},
     "output_type": "display_data"
    }
   ],
   "source": [
    "sns.histplot(df[\"Age\"], bins=30, kde=True)\n",
    "plt.title(\"Age Distribution\")\n",
    "plt.xlabel(\"Age\")\n",
    "plt.ylabel(\"Count\");\n"
   ]
  },
  {
   "cell_type": "code",
   "execution_count": 52,
   "id": "a840c448",
   "metadata": {},
   "outputs": [],
   "source": [
    "# Group ages by severity categories\n",
    "mild_age = df[df['Severity_Category'] == 'Mild']['Age']\n",
    "moderate_age = df[df['Severity_Category'] == 'Moderate']['Age']\n",
    "severe_age = df[df['Severity_Category'] == 'Severe']['Age']"
   ]
  },
  {
   "cell_type": "markdown",
   "id": "47a30518",
   "metadata": {},
   "source": [
    "ANOVA: Parametric"
   ]
  },
  {
   "cell_type": "code",
   "execution_count": 54,
   "id": "8f4a9e2a",
   "metadata": {},
   "outputs": [
    {
     "data": {
      "text/plain": [
       "F_onewayResult(statistic=np.float64(0.2319442180458219), pvalue=np.float64(0.7929912098953138))"
      ]
     },
     "execution_count": 54,
     "metadata": {},
     "output_type": "execute_result"
    }
   ],
   "source": [
    "# One-way ANOVA\n",
    "anova_result = stats.f_oneway(mild_age, moderate_age, severe_age)\n",
    "anova_result"
   ]
  },
  {
   "cell_type": "markdown",
   "id": "38f2171c",
   "metadata": {},
   "source": [
    "Kruskal-Wallis: Non-Parametric"
   ]
  },
  {
   "cell_type": "code",
   "execution_count": 57,
   "id": "ffc64a72",
   "metadata": {},
   "outputs": [
    {
     "data": {
      "text/plain": [
       "KruskalResult(statistic=np.float64(0.45821135208265557), pvalue=np.float64(0.7952444907748478))"
      ]
     },
     "execution_count": 57,
     "metadata": {},
     "output_type": "execute_result"
    }
   ],
   "source": [
    "# Kruskal-Wallis test\n",
    "kruskal_result = stats.kruskal(mild_age, moderate_age, severe_age)\n",
    "kruskal_result"
   ]
  },
  {
   "cell_type": "markdown",
   "id": "55465898",
   "metadata": {},
   "source": [
    "Ordinal Logistic Regression (Association Modeling)"
   ]
  },
  {
   "cell_type": "code",
   "execution_count": 59,
   "id": "18b5e6fa",
   "metadata": {},
   "outputs": [],
   "source": [
    "# Encode severity categories in ordinal order\n",
    "df['Severity_Category'] = pd.Categorical(\n",
    "    df['Severity_Category'], \n",
    "    categories=['Mild', 'Moderate', 'Severe'], \n",
    "    ordered=True\n",
    ")"
   ]
  },
  {
   "cell_type": "code",
   "execution_count": 61,
   "id": "9b350040",
   "metadata": {},
   "outputs": [],
   "source": [
    "# Define model\n",
    "model = OrderedModel(df['Severity_Category'],\n",
    "                     df[['Age']],   # predictors\n",
    "                     distr='logit') # or 'probit'"
   ]
  },
  {
   "cell_type": "code",
   "execution_count": 63,
   "id": "26528a22",
   "metadata": {},
   "outputs": [
    {
     "name": "stdout",
     "output_type": "stream",
     "text": [
      "Optimization terminated successfully.\n",
      "         Current function value: 0.580616\n",
      "         Iterations: 7\n",
      "         Function evaluations: 10\n",
      "         Gradient evaluations: 10\n"
     ]
    },
    {
     "data": {
      "text/html": [
       "<table class=\"simpletable\">\n",
       "<caption>OrderedModel Results</caption>\n",
       "<tr>\n",
       "  <th>Dep. Variable:</th>     <td>Severity_Category</td> <th>  Log-Likelihood:    </th> <td> -29031.</td> \n",
       "</tr>\n",
       "<tr>\n",
       "  <th>Model:</th>               <td>OrderedModel</td>    <th>  AIC:               </th> <td>5.807e+04</td>\n",
       "</tr>\n",
       "<tr>\n",
       "  <th>Method:</th>           <td>Maximum Likelihood</td> <th>  BIC:               </th> <td>5.809e+04</td>\n",
       "</tr>\n",
       "<tr>\n",
       "  <th>Date:</th>              <td>Sun, 24 Aug 2025</td>  <th>                     </th>     <td> </td>    \n",
       "</tr>\n",
       "<tr>\n",
       "  <th>Time:</th>                  <td>15:14:02</td>      <th>                     </th>     <td> </td>    \n",
       "</tr>\n",
       "<tr>\n",
       "  <th>No. Observations:</th>       <td> 50000</td>       <th>                     </th>     <td> </td>    \n",
       "</tr>\n",
       "<tr>\n",
       "  <th>Df Residuals:</th>           <td> 49997</td>       <th>                     </th>     <td> </td>    \n",
       "</tr>\n",
       "<tr>\n",
       "  <th>Df Model:</th>               <td>     1</td>       <th>                     </th>     <td> </td>    \n",
       "</tr>\n",
       "</table>\n",
       "<table class=\"simpletable\">\n",
       "<tr>\n",
       "         <td></td>            <th>coef</th>     <th>std err</th>      <th>z</th>      <th>P>|z|</th>  <th>[0.025</th>    <th>0.975]</th>  \n",
       "</tr>\n",
       "<tr>\n",
       "  <th>Age</th>             <td> 5.048e-05</td> <td>    0.001</td> <td>    0.087</td> <td> 0.931</td> <td>   -0.001</td> <td>    0.001</td>\n",
       "</tr>\n",
       "<tr>\n",
       "  <th>Mild/Moderate</th>   <td>   -2.3524</td> <td>    0.035</td> <td>  -66.356</td> <td> 0.000</td> <td>   -2.422</td> <td>   -2.283</td>\n",
       "</tr>\n",
       "<tr>\n",
       "  <th>Moderate/Severe</th> <td>    1.5505</td> <td>    0.005</td> <td>  341.448</td> <td> 0.000</td> <td>    1.542</td> <td>    1.559</td>\n",
       "</tr>\n",
       "</table>"
      ],
      "text/latex": [
       "\\begin{center}\n",
       "\\begin{tabular}{lclc}\n",
       "\\toprule\n",
       "\\textbf{Dep. Variable:}    & Severity\\_Category & \\textbf{  Log-Likelihood:    } &   -29031.   \\\\\n",
       "\\textbf{Model:}            &    OrderedModel    & \\textbf{  AIC:               } & 5.807e+04   \\\\\n",
       "\\textbf{Method:}           & Maximum Likelihood & \\textbf{  BIC:               } & 5.809e+04   \\\\\n",
       "\\textbf{Date:}             &  Sun, 24 Aug 2025  & \\textbf{                     } &             \\\\\n",
       "\\textbf{Time:}             &      15:14:02      & \\textbf{                     } &             \\\\\n",
       "\\textbf{No. Observations:} &        50000       & \\textbf{                     } &             \\\\\n",
       "\\textbf{Df Residuals:}     &        49997       & \\textbf{                     } &             \\\\\n",
       "\\textbf{Df Model:}         &            1       & \\textbf{                     } &             \\\\\n",
       "\\bottomrule\n",
       "\\end{tabular}\n",
       "\\begin{tabular}{lcccccc}\n",
       "                         & \\textbf{coef} & \\textbf{std err} & \\textbf{z} & \\textbf{P$> |$z$|$} & \\textbf{[0.025} & \\textbf{0.975]}  \\\\\n",
       "\\midrule\n",
       "\\textbf{Age}             &    5.048e-05  &        0.001     &     0.087  &         0.931        &       -0.001    &        0.001     \\\\\n",
       "\\textbf{Mild/Moderate}   &      -2.3524  &        0.035     &   -66.356  &         0.000        &       -2.422    &       -2.283     \\\\\n",
       "\\textbf{Moderate/Severe} &       1.5505  &        0.005     &   341.448  &         0.000        &        1.542    &        1.559     \\\\\n",
       "\\bottomrule\n",
       "\\end{tabular}\n",
       "%\\caption{OrderedModel Results}\n",
       "\\end{center}"
      ],
      "text/plain": [
       "<class 'statsmodels.iolib.summary.Summary'>\n",
       "\"\"\"\n",
       "                             OrderedModel Results                             \n",
       "==============================================================================\n",
       "Dep. Variable:      Severity_Category   Log-Likelihood:                -29031.\n",
       "Model:                   OrderedModel   AIC:                         5.807e+04\n",
       "Method:            Maximum Likelihood   BIC:                         5.809e+04\n",
       "Date:                Sun, 24 Aug 2025                                         \n",
       "Time:                        15:14:02                                         \n",
       "No. Observations:               50000                                         \n",
       "Df Residuals:                   49997                                         \n",
       "Df Model:                           1                                         \n",
       "===================================================================================\n",
       "                      coef    std err          z      P>|z|      [0.025      0.975]\n",
       "-----------------------------------------------------------------------------------\n",
       "Age              5.048e-05      0.001      0.087      0.931      -0.001       0.001\n",
       "Mild/Moderate      -2.3524      0.035    -66.356      0.000      -2.422      -2.283\n",
       "Moderate/Severe     1.5505      0.005    341.448      0.000       1.542       1.559\n",
       "===================================================================================\n",
       "\"\"\""
      ]
     },
     "execution_count": 63,
     "metadata": {},
     "output_type": "execute_result"
    }
   ],
   "source": [
    "result = model.fit(method='bfgs')\n",
    "result.summary()"
   ]
  },
  {
   "cell_type": "markdown",
   "id": "81584bd9",
   "metadata": {},
   "source": [
    "Odds Ratios from Ordinal Logistic Regression"
   ]
  },
  {
   "cell_type": "code",
   "execution_count": 66,
   "id": "09c8e43d",
   "metadata": {},
   "outputs": [
    {
     "data": {
      "application/vnd.microsoft.datawrangler.viewer.v0+json": {
       "columns": [
        {
         "name": "index",
         "rawType": "object",
         "type": "string"
        },
        {
         "name": "0",
         "rawType": "float64",
         "type": "float"
        }
       ],
       "ref": "c0dba9f0-837e-4ebf-bde0-448b37b16775",
       "rows": [
        [
         "Age",
         "5.048463307759379e-05"
        ],
        [
         "Mild/Moderate",
         "-2.352378135374318"
        ],
        [
         "Moderate/Severe",
         "1.550495247436243"
        ]
       ],
       "shape": {
        "columns": 1,
        "rows": 3
       }
      },
      "text/plain": [
       "Age                0.000050\n",
       "Mild/Moderate     -2.352378\n",
       "Moderate/Severe    1.550495\n",
       "dtype: float64"
      ]
     },
     "execution_count": 66,
     "metadata": {},
     "output_type": "execute_result"
    }
   ],
   "source": [
    "# Extract coefficients\n",
    "params = result.params\n",
    "params"
   ]
  },
  {
   "cell_type": "code",
   "execution_count": 67,
   "id": "673e7051",
   "metadata": {},
   "outputs": [
    {
     "name": "stdout",
     "output_type": "stream",
     "text": [
      "Odds Ratio for Age: 1.000\n"
     ]
    }
   ],
   "source": [
    "# Exponentiate the Age coefficient to get odds ratio\n",
    "odds_ratio = np.exp(params['Age'])\n",
    "print(f\"Odds Ratio for Age: {odds_ratio:.3f}\")"
   ]
  },
  {
   "cell_type": "markdown",
   "id": "af01ed8d",
   "metadata": {},
   "source": [
    "Odds ratio = 1.000; Age has no effect on the likelihood of moving from one severity category (Mild → Moderate → Severe)."
   ]
  },
  {
   "cell_type": "markdown",
   "id": "caf3960c",
   "metadata": {},
   "source": [
    "#### **Cancer_Stage vs Severity_Category**"
   ]
  },
  {
   "cell_type": "code",
   "execution_count": 76,
   "id": "31fd8237",
   "metadata": {},
   "outputs": [
    {
     "data": {
      "application/vnd.microsoft.datawrangler.viewer.v0+json": {
       "columns": [
        {
         "name": "Cancer_Stage",
         "rawType": "object",
         "type": "string"
        },
        {
         "name": "count",
         "rawType": "int64",
         "type": "integer"
        }
       ],
       "ref": "fdad99c9-9d2b-4184-822f-ce7ee2f5c5e6",
       "rows": [
        [
         "Stage II",
         "10124"
        ],
        [
         "Stage I",
         "10046"
        ],
        [
         "Stage III",
         "10008"
        ],
        [
         "Stage IV",
         "9933"
        ],
        [
         "Stage 0",
         "9889"
        ]
       ],
       "shape": {
        "columns": 1,
        "rows": 5
       }
      },
      "text/plain": [
       "Cancer_Stage\n",
       "Stage II     10124\n",
       "Stage I      10046\n",
       "Stage III    10008\n",
       "Stage IV      9933\n",
       "Stage 0       9889\n",
       "Name: count, dtype: int64"
      ]
     },
     "execution_count": 76,
     "metadata": {},
     "output_type": "execute_result"
    }
   ],
   "source": [
    "df[\"Cancer_Stage\"].value_counts()"
   ]
  },
  {
   "cell_type": "code",
   "execution_count": null,
   "id": "a62d70cc",
   "metadata": {},
   "outputs": [
    {
     "data": {
      "image/png": "[encoded data removed]",
      "text/plain": [
       "<Figure size 640x480 with 1 Axes>"
      ]
     },
     "metadata": {},
     "output_type": "display_data"
    }
   ],
   "source": []
  },
  {
   "cell_type": "code",
   "execution_count": null,
   "id": "f1090fdd",
   "metadata": {},
   "outputs": [],
   "source": []
  }
 ],
 "metadata": {
  "kernelspec": {
   "display_name": "Python 3",
   "language": "python",
   "name": "python3"
  },
  "language_info": {
   "codemirror_mode": {
    "name": "ipython",
    "version": 3
   },
   "file_extension": ".py",
   "mimetype": "text/x-python",
   "name": "python",
   "nbconvert_exporter": "python",
   "pygments_lexer": "ipython3",
   "version": "3.13.2"
  }
 },
 "nbformat": 4,
 "nbformat_minor": 5
}
